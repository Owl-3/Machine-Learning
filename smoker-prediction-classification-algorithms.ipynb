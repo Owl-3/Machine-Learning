{
 "cells": [
  {
   "cell_type": "markdown",
   "id": "a158ce77",
   "metadata": {
    "_cell_guid": "b1076dfc-b9ad-4769-8c92-a6c4dae69d19",
    "_uuid": "8f2839f25d086af736a60e9eeb907d3b93b6e0e5",
    "execution": {
     "iopub.execute_input": "2022-11-30T04:53:14.526501Z",
     "iopub.status.busy": "2022-11-30T04:53:14.525368Z",
     "iopub.status.idle": "2022-11-30T04:53:14.53351Z",
     "shell.execute_reply": "2022-11-30T04:53:14.532541Z",
     "shell.execute_reply.started": "2022-11-30T04:53:14.526461Z"
    },
    "papermill": {
     "duration": 0.008889,
     "end_time": "2022-12-07T07:50:05.296266",
     "exception": false,
     "start_time": "2022-12-07T07:50:05.287377",
     "status": "completed"
    },
    "tags": []
   },
   "source": [
    "## Problem\n",
    "\n",
    "The task is to create a model that can closely predict if a person is a smoker or not given the features in the dataset."
   ]
  },
  {
   "cell_type": "markdown",
   "id": "8aae9f41",
   "metadata": {
    "papermill": {
     "duration": 0.007037,
     "end_time": "2022-12-07T07:50:05.310832",
     "exception": false,
     "start_time": "2022-12-07T07:50:05.303795",
     "status": "completed"
    },
    "tags": []
   },
   "source": [
    "In order to correctly predict if the person is a smoker or not, I need to think about the following;<br>\n",
    "    - What type of machine learning model will I employ? - best answered once different algorithms are tried out to see one with the highest accuracy score.<br>\n",
    "    - What is my target feature? Identified depending on the problem objective. In this case, 'smoker' is the target feature.\n",
    "    - Is my target feature continuous or discrete/categorical? 'smoker' is categorical.<br>\n",
    "    - Is it a classification or a regression task, or something else?Target feature is categorical thus it is a classification task. <br>\n",
    "    - Is it batch or online learning? for this instance, it is batch learning as there is no continuouis flow of data into the system. <br>\n",
    "    \n",
    "Once the questions are correctly answered, then from then, it will be easier to know which models to work with"
   ]
  },
  {
   "cell_type": "code",
   "execution_count": 1,
   "id": "4dac8565",
   "metadata": {
    "execution": {
     "iopub.execute_input": "2022-12-07T07:50:05.328380Z",
     "iopub.status.busy": "2022-12-07T07:50:05.327767Z",
     "iopub.status.idle": "2022-12-07T07:50:07.148106Z",
     "shell.execute_reply": "2022-12-07T07:50:07.146784Z"
    },
    "papermill": {
     "duration": 1.832927,
     "end_time": "2022-12-07T07:50:07.151297",
     "exception": false,
     "start_time": "2022-12-07T07:50:05.318370",
     "status": "completed"
    },
    "tags": []
   },
   "outputs": [],
   "source": [
    "import pandas as pd\n",
    "import numpy as np\n",
    "from sklearn.model_selection import train_test_split\n",
    "import matplotlib.pyplot as plt\n",
    "import seaborn as sns\n",
    "from sklearn.pipeline import Pipeline, make_pipeline\n",
    "import warnings\n",
    "warnings.filterwarnings(\"ignore\")\n",
    "\n",
    "from sklearn.svm import SVC, SVR\n",
    "from sklearn.linear_model import LogisticRegression\n",
    "from sklearn.ensemble import RandomForestClassifier\n",
    "from sklearn.tree import DecisionTreeClassifier\n",
    "from sklearn.ensemble import GradientBoostingClassifier\n",
    "from sklearn.neighbors import KNeighborsClassifier\n",
    "from sklearn.preprocessing import LabelEncoder, StandardScaler, OneHotEncoder\n",
    "from sklearn.compose import ColumnTransformer\n",
    "\n",
    "from sklearn.metrics import accuracy_score, classification_report, plot_roc_curve\n",
    "from sklearn.metrics import confusion_matrix, ConfusionMatrixDisplay"
   ]
  },
  {
   "cell_type": "markdown",
   "id": "d5d330c0",
   "metadata": {
    "papermill": {
     "duration": 0.007073,
     "end_time": "2022-12-07T07:50:07.165808",
     "exception": false,
     "start_time": "2022-12-07T07:50:07.158735",
     "status": "completed"
    },
    "tags": []
   },
   "source": [
    "## Understanding the data"
   ]
  },
  {
   "cell_type": "code",
   "execution_count": 2,
   "id": "7a054886",
   "metadata": {
    "execution": {
     "iopub.execute_input": "2022-12-07T07:50:07.183436Z",
     "iopub.status.busy": "2022-12-07T07:50:07.183018Z",
     "iopub.status.idle": "2022-12-07T07:50:07.231972Z",
     "shell.execute_reply": "2022-12-07T07:50:07.230178Z"
    },
    "papermill": {
     "duration": 0.06302,
     "end_time": "2022-12-07T07:50:07.236020",
     "exception": false,
     "start_time": "2022-12-07T07:50:07.173000",
     "status": "completed"
    },
    "tags": []
   },
   "outputs": [
    {
     "data": {
      "text/html": [
       "<div>\n",
       "<style scoped>\n",
       "    .dataframe tbody tr th:only-of-type {\n",
       "        vertical-align: middle;\n",
       "    }\n",
       "\n",
       "    .dataframe tbody tr th {\n",
       "        vertical-align: top;\n",
       "    }\n",
       "\n",
       "    .dataframe thead th {\n",
       "        text-align: right;\n",
       "    }\n",
       "</style>\n",
       "<table border=\"1\" class=\"dataframe\">\n",
       "  <thead>\n",
       "    <tr style=\"text-align: right;\">\n",
       "      <th></th>\n",
       "      <th>age</th>\n",
       "      <th>sex</th>\n",
       "      <th>bmi</th>\n",
       "      <th>children</th>\n",
       "      <th>smoker</th>\n",
       "      <th>region</th>\n",
       "      <th>charges</th>\n",
       "    </tr>\n",
       "  </thead>\n",
       "  <tbody>\n",
       "    <tr>\n",
       "      <th>0</th>\n",
       "      <td>19</td>\n",
       "      <td>female</td>\n",
       "      <td>27.900</td>\n",
       "      <td>0</td>\n",
       "      <td>yes</td>\n",
       "      <td>southwest</td>\n",
       "      <td>16884.92400</td>\n",
       "    </tr>\n",
       "    <tr>\n",
       "      <th>1</th>\n",
       "      <td>18</td>\n",
       "      <td>male</td>\n",
       "      <td>33.770</td>\n",
       "      <td>1</td>\n",
       "      <td>no</td>\n",
       "      <td>southeast</td>\n",
       "      <td>1725.55230</td>\n",
       "    </tr>\n",
       "    <tr>\n",
       "      <th>2</th>\n",
       "      <td>28</td>\n",
       "      <td>male</td>\n",
       "      <td>33.000</td>\n",
       "      <td>3</td>\n",
       "      <td>no</td>\n",
       "      <td>southeast</td>\n",
       "      <td>4449.46200</td>\n",
       "    </tr>\n",
       "    <tr>\n",
       "      <th>3</th>\n",
       "      <td>33</td>\n",
       "      <td>male</td>\n",
       "      <td>22.705</td>\n",
       "      <td>0</td>\n",
       "      <td>no</td>\n",
       "      <td>northwest</td>\n",
       "      <td>21984.47061</td>\n",
       "    </tr>\n",
       "    <tr>\n",
       "      <th>4</th>\n",
       "      <td>32</td>\n",
       "      <td>male</td>\n",
       "      <td>28.880</td>\n",
       "      <td>0</td>\n",
       "      <td>no</td>\n",
       "      <td>northwest</td>\n",
       "      <td>3866.85520</td>\n",
       "    </tr>\n",
       "  </tbody>\n",
       "</table>\n",
       "</div>"
      ],
      "text/plain": [
       "   age     sex     bmi  children smoker     region      charges\n",
       "0   19  female  27.900         0    yes  southwest  16884.92400\n",
       "1   18    male  33.770         1     no  southeast   1725.55230\n",
       "2   28    male  33.000         3     no  southeast   4449.46200\n",
       "3   33    male  22.705         0     no  northwest  21984.47061\n",
       "4   32    male  28.880         0     no  northwest   3866.85520"
      ]
     },
     "execution_count": 2,
     "metadata": {},
     "output_type": "execute_result"
    }
   ],
   "source": [
    "df = pd.read_csv('/kaggle/input/insurance/insurance.csv')\n",
    "df.head()"
   ]
  },
  {
   "cell_type": "code",
   "execution_count": 3,
   "id": "dc6f6d06",
   "metadata": {
    "execution": {
     "iopub.execute_input": "2022-12-07T07:50:07.255866Z",
     "iopub.status.busy": "2022-12-07T07:50:07.255443Z",
     "iopub.status.idle": "2022-12-07T07:50:07.269076Z",
     "shell.execute_reply": "2022-12-07T07:50:07.267647Z"
    },
    "papermill": {
     "duration": 0.028264,
     "end_time": "2022-12-07T07:50:07.272437",
     "exception": false,
     "start_time": "2022-12-07T07:50:07.244173",
     "status": "completed"
    },
    "tags": []
   },
   "outputs": [
    {
     "name": "stdout",
     "output_type": "stream",
     "text": [
      "['southwest' 'southeast' 'northwest' 'northeast']\n",
      "['female' 'male']\n"
     ]
    }
   ],
   "source": [
    "print(df.region.unique())\n",
    "print(df.sex.unique())"
   ]
  },
  {
   "cell_type": "code",
   "execution_count": 4,
   "id": "3ff62198",
   "metadata": {
    "execution": {
     "iopub.execute_input": "2022-12-07T07:50:07.291549Z",
     "iopub.status.busy": "2022-12-07T07:50:07.291125Z",
     "iopub.status.idle": "2022-12-07T07:50:07.314752Z",
     "shell.execute_reply": "2022-12-07T07:50:07.313001Z"
    },
    "papermill": {
     "duration": 0.036214,
     "end_time": "2022-12-07T07:50:07.317890",
     "exception": false,
     "start_time": "2022-12-07T07:50:07.281676",
     "status": "completed"
    },
    "tags": []
   },
   "outputs": [
    {
     "name": "stdout",
     "output_type": "stream",
     "text": [
      "<class 'pandas.core.frame.DataFrame'>\n",
      "RangeIndex: 1338 entries, 0 to 1337\n",
      "Data columns (total 7 columns):\n",
      " #   Column    Non-Null Count  Dtype  \n",
      "---  ------    --------------  -----  \n",
      " 0   age       1338 non-null   int64  \n",
      " 1   sex       1338 non-null   object \n",
      " 2   bmi       1338 non-null   float64\n",
      " 3   children  1338 non-null   int64  \n",
      " 4   smoker    1338 non-null   object \n",
      " 5   region    1338 non-null   object \n",
      " 6   charges   1338 non-null   float64\n",
      "dtypes: float64(2), int64(2), object(3)\n",
      "memory usage: 73.3+ KB\n"
     ]
    }
   ],
   "source": [
    "df.info()"
   ]
  },
  {
   "cell_type": "code",
   "execution_count": 5,
   "id": "9cdd3f18",
   "metadata": {
    "execution": {
     "iopub.execute_input": "2022-12-07T07:50:07.336839Z",
     "iopub.status.busy": "2022-12-07T07:50:07.336297Z",
     "iopub.status.idle": "2022-12-07T07:50:07.347347Z",
     "shell.execute_reply": "2022-12-07T07:50:07.345911Z"
    },
    "papermill": {
     "duration": 0.02393,
     "end_time": "2022-12-07T07:50:07.350073",
     "exception": false,
     "start_time": "2022-12-07T07:50:07.326143",
     "status": "completed"
    },
    "tags": []
   },
   "outputs": [
    {
     "data": {
      "text/plain": [
       "age         0\n",
       "sex         0\n",
       "bmi         0\n",
       "children    0\n",
       "smoker      0\n",
       "region      0\n",
       "charges     0\n",
       "dtype: int64"
      ]
     },
     "execution_count": 5,
     "metadata": {},
     "output_type": "execute_result"
    }
   ],
   "source": [
    "# checcking existence of missing values\n",
    "df.isnull().sum()"
   ]
  },
  {
   "cell_type": "code",
   "execution_count": 6,
   "id": "aac12fe3",
   "metadata": {
    "execution": {
     "iopub.execute_input": "2022-12-07T07:50:07.367911Z",
     "iopub.status.busy": "2022-12-07T07:50:07.367126Z",
     "iopub.status.idle": "2022-12-07T07:50:07.376680Z",
     "shell.execute_reply": "2022-12-07T07:50:07.375405Z"
    },
    "papermill": {
     "duration": 0.02121,
     "end_time": "2022-12-07T07:50:07.379310",
     "exception": false,
     "start_time": "2022-12-07T07:50:07.358100",
     "status": "completed"
    },
    "tags": []
   },
   "outputs": [],
   "source": [
    "# using LabelEncoder on the smoker to convert it to numeric without creating another feature\n",
    "# we can try, in a different notebook, to binarize the sex and region features \n",
    "# to see which option generates highest accuracy score\n",
    "\n",
    "le = LabelEncoder()\n",
    "\n",
    "df['sex'] = le.fit_transform(df['sex'])\n",
    "df['smoker'] = le.fit_transform(df['smoker'])\n",
    "df['region'] = le.fit_transform(df['region'])"
   ]
  },
  {
   "cell_type": "code",
   "execution_count": 7,
   "id": "27086750",
   "metadata": {
    "execution": {
     "iopub.execute_input": "2022-12-07T07:50:07.397794Z",
     "iopub.status.busy": "2022-12-07T07:50:07.396946Z",
     "iopub.status.idle": "2022-12-07T07:50:07.406576Z",
     "shell.execute_reply": "2022-12-07T07:50:07.405035Z"
    },
    "papermill": {
     "duration": 0.021834,
     "end_time": "2022-12-07T07:50:07.409192",
     "exception": false,
     "start_time": "2022-12-07T07:50:07.387358",
     "status": "completed"
    },
    "tags": []
   },
   "outputs": [
    {
     "data": {
      "text/plain": [
       "0    1\n",
       "1    0\n",
       "2    0\n",
       "3    0\n",
       "4    0\n",
       "Name: smoker, dtype: int64"
      ]
     },
     "execution_count": 7,
     "metadata": {},
     "output_type": "execute_result"
    }
   ],
   "source": [
    "df['smoker'].head()"
   ]
  },
  {
   "cell_type": "code",
   "execution_count": 8,
   "id": "534812c3",
   "metadata": {
    "execution": {
     "iopub.execute_input": "2022-12-07T07:50:07.427624Z",
     "iopub.status.busy": "2022-12-07T07:50:07.427029Z",
     "iopub.status.idle": "2022-12-07T07:50:07.441282Z",
     "shell.execute_reply": "2022-12-07T07:50:07.439904Z"
    },
    "papermill": {
     "duration": 0.027443,
     "end_time": "2022-12-07T07:50:07.444412",
     "exception": false,
     "start_time": "2022-12-07T07:50:07.416969",
     "status": "completed"
    },
    "tags": []
   },
   "outputs": [
    {
     "data": {
      "text/html": [
       "<div>\n",
       "<style scoped>\n",
       "    .dataframe tbody tr th:only-of-type {\n",
       "        vertical-align: middle;\n",
       "    }\n",
       "\n",
       "    .dataframe tbody tr th {\n",
       "        vertical-align: top;\n",
       "    }\n",
       "\n",
       "    .dataframe thead th {\n",
       "        text-align: right;\n",
       "    }\n",
       "</style>\n",
       "<table border=\"1\" class=\"dataframe\">\n",
       "  <thead>\n",
       "    <tr style=\"text-align: right;\">\n",
       "      <th></th>\n",
       "      <th>age</th>\n",
       "      <th>sex</th>\n",
       "      <th>bmi</th>\n",
       "      <th>children</th>\n",
       "      <th>smoker</th>\n",
       "      <th>region</th>\n",
       "      <th>charges</th>\n",
       "    </tr>\n",
       "  </thead>\n",
       "  <tbody>\n",
       "    <tr>\n",
       "      <th>0</th>\n",
       "      <td>19</td>\n",
       "      <td>0</td>\n",
       "      <td>27.900</td>\n",
       "      <td>0</td>\n",
       "      <td>1</td>\n",
       "      <td>3</td>\n",
       "      <td>16884.92400</td>\n",
       "    </tr>\n",
       "    <tr>\n",
       "      <th>1</th>\n",
       "      <td>18</td>\n",
       "      <td>1</td>\n",
       "      <td>33.770</td>\n",
       "      <td>1</td>\n",
       "      <td>0</td>\n",
       "      <td>2</td>\n",
       "      <td>1725.55230</td>\n",
       "    </tr>\n",
       "    <tr>\n",
       "      <th>2</th>\n",
       "      <td>28</td>\n",
       "      <td>1</td>\n",
       "      <td>33.000</td>\n",
       "      <td>3</td>\n",
       "      <td>0</td>\n",
       "      <td>2</td>\n",
       "      <td>4449.46200</td>\n",
       "    </tr>\n",
       "    <tr>\n",
       "      <th>3</th>\n",
       "      <td>33</td>\n",
       "      <td>1</td>\n",
       "      <td>22.705</td>\n",
       "      <td>0</td>\n",
       "      <td>0</td>\n",
       "      <td>1</td>\n",
       "      <td>21984.47061</td>\n",
       "    </tr>\n",
       "    <tr>\n",
       "      <th>4</th>\n",
       "      <td>32</td>\n",
       "      <td>1</td>\n",
       "      <td>28.880</td>\n",
       "      <td>0</td>\n",
       "      <td>0</td>\n",
       "      <td>1</td>\n",
       "      <td>3866.85520</td>\n",
       "    </tr>\n",
       "  </tbody>\n",
       "</table>\n",
       "</div>"
      ],
      "text/plain": [
       "   age  sex     bmi  children  smoker  region      charges\n",
       "0   19    0  27.900         0       1       3  16884.92400\n",
       "1   18    1  33.770         1       0       2   1725.55230\n",
       "2   28    1  33.000         3       0       2   4449.46200\n",
       "3   33    1  22.705         0       0       1  21984.47061\n",
       "4   32    1  28.880         0       0       1   3866.85520"
      ]
     },
     "execution_count": 8,
     "metadata": {},
     "output_type": "execute_result"
    }
   ],
   "source": [
    "df.head()"
   ]
  },
  {
   "cell_type": "code",
   "execution_count": 9,
   "id": "b58d276b",
   "metadata": {
    "execution": {
     "iopub.execute_input": "2022-12-07T07:50:07.465671Z",
     "iopub.status.busy": "2022-12-07T07:50:07.465260Z",
     "iopub.status.idle": "2022-12-07T07:50:07.475719Z",
     "shell.execute_reply": "2022-12-07T07:50:07.474026Z"
    },
    "papermill": {
     "duration": 0.02614,
     "end_time": "2022-12-07T07:50:07.479428",
     "exception": false,
     "start_time": "2022-12-07T07:50:07.453288",
     "status": "completed"
    },
    "tags": []
   },
   "outputs": [
    {
     "name": "stdout",
     "output_type": "stream",
     "text": [
      "[0 1]\n",
      "[1 0]\n",
      "[3 2 1 0]\n"
     ]
    }
   ],
   "source": [
    "print(df.sex.unique())\n",
    "print(df.smoker.unique())\n",
    "print(df.region.unique())"
   ]
  },
  {
   "cell_type": "code",
   "execution_count": 10,
   "id": "93e4c45f",
   "metadata": {
    "execution": {
     "iopub.execute_input": "2022-12-07T07:50:07.499729Z",
     "iopub.status.busy": "2022-12-07T07:50:07.499267Z",
     "iopub.status.idle": "2022-12-07T07:50:07.520268Z",
     "shell.execute_reply": "2022-12-07T07:50:07.518332Z"
    },
    "papermill": {
     "duration": 0.034892,
     "end_time": "2022-12-07T07:50:07.523354",
     "exception": false,
     "start_time": "2022-12-07T07:50:07.488462",
     "status": "completed"
    },
    "tags": []
   },
   "outputs": [
    {
     "data": {
      "text/html": [
       "<div>\n",
       "<style scoped>\n",
       "    .dataframe tbody tr th:only-of-type {\n",
       "        vertical-align: middle;\n",
       "    }\n",
       "\n",
       "    .dataframe tbody tr th {\n",
       "        vertical-align: top;\n",
       "    }\n",
       "\n",
       "    .dataframe thead th {\n",
       "        text-align: right;\n",
       "    }\n",
       "</style>\n",
       "<table border=\"1\" class=\"dataframe\">\n",
       "  <thead>\n",
       "    <tr style=\"text-align: right;\">\n",
       "      <th></th>\n",
       "      <th>unique count</th>\n",
       "    </tr>\n",
       "  </thead>\n",
       "  <tbody>\n",
       "    <tr>\n",
       "      <th>age</th>\n",
       "      <td>47</td>\n",
       "    </tr>\n",
       "    <tr>\n",
       "      <th>sex</th>\n",
       "      <td>2</td>\n",
       "    </tr>\n",
       "    <tr>\n",
       "      <th>bmi</th>\n",
       "      <td>548</td>\n",
       "    </tr>\n",
       "    <tr>\n",
       "      <th>children</th>\n",
       "      <td>6</td>\n",
       "    </tr>\n",
       "    <tr>\n",
       "      <th>smoker</th>\n",
       "      <td>2</td>\n",
       "    </tr>\n",
       "    <tr>\n",
       "      <th>region</th>\n",
       "      <td>4</td>\n",
       "    </tr>\n",
       "    <tr>\n",
       "      <th>charges</th>\n",
       "      <td>1337</td>\n",
       "    </tr>\n",
       "  </tbody>\n",
       "</table>\n",
       "</div>"
      ],
      "text/plain": [
       "          unique count\n",
       "age                 47\n",
       "sex                  2\n",
       "bmi                548\n",
       "children             6\n",
       "smoker               2\n",
       "region               4\n",
       "charges           1337"
      ]
     },
     "execution_count": 10,
     "metadata": {},
     "output_type": "execute_result"
    }
   ],
   "source": [
    "dict = {}\n",
    "for i in list(df.columns):\n",
    "    dict[i] = df[i].value_counts().shape[0]\n",
    "\n",
    "pd.DataFrame(dict,index=[\"unique count\"]).transpose()"
   ]
  },
  {
   "cell_type": "code",
   "execution_count": 11,
   "id": "9f507676",
   "metadata": {
    "execution": {
     "iopub.execute_input": "2022-12-07T07:50:07.543953Z",
     "iopub.status.busy": "2022-12-07T07:50:07.542582Z",
     "iopub.status.idle": "2022-12-07T07:50:07.552082Z",
     "shell.execute_reply": "2022-12-07T07:50:07.550302Z"
    },
    "papermill": {
     "duration": 0.022906,
     "end_time": "2022-12-07T07:50:07.554651",
     "exception": false,
     "start_time": "2022-12-07T07:50:07.531745",
     "status": "completed"
    },
    "tags": []
   },
   "outputs": [
    {
     "data": {
      "text/plain": [
       "0    1064\n",
       "1     274\n",
       "Name: smoker, dtype: int64"
      ]
     },
     "execution_count": 11,
     "metadata": {},
     "output_type": "execute_result"
    }
   ],
   "source": [
    "df.smoker.value_counts()"
   ]
  },
  {
   "cell_type": "code",
   "execution_count": 12,
   "id": "b98244a4",
   "metadata": {
    "execution": {
     "iopub.execute_input": "2022-12-07T07:50:07.575444Z",
     "iopub.status.busy": "2022-12-07T07:50:07.574720Z",
     "iopub.status.idle": "2022-12-07T07:50:52.686315Z",
     "shell.execute_reply": "2022-12-07T07:50:52.685402Z"
    },
    "papermill": {
     "duration": 45.13363,
     "end_time": "2022-12-07T07:50:52.696985",
     "exception": false,
     "start_time": "2022-12-07T07:50:07.563355",
     "status": "completed"
    },
    "tags": []
   },
   "outputs": [
    {
     "data": {
      "text/plain": [
       "<AxesSubplot:xlabel='region', ylabel='charges'>"
      ]
     },
     "execution_count": 12,
     "metadata": {},
     "output_type": "execute_result"
    },
    {
     "data": {
      "image/png": "[encoded data removed]",
      "text/plain": [
       "<Figure size 1296x1080 with 6 Axes>"
      ]
     },
     "metadata": {
      "needs_background": "light"
     },
     "output_type": "display_data"
    }
   ],
   "source": [
    "fig = plt.figure(figsize=(18,15))\n",
    "gs = fig.add_gridspec(2,3)\n",
    "gs.update(wspace=0.5, hspace=0.25)\n",
    "ax0 = fig.add_subplot(gs[0,0])\n",
    "ax1 = fig.add_subplot(gs[0,1])\n",
    "ax2 = fig.add_subplot(gs[0,2])\n",
    "ax3 = fig.add_subplot(gs[1,0])\n",
    "ax4 = fig.add_subplot(gs[1,1])\n",
    "ax5 = fig.add_subplot(gs[1,2])\n",
    "\n",
    "sns.barplot(ax=ax0,data=df,x='charges',y = 'age')\n",
    "sns.barplot(ax=ax1,data=df,x='sex',y = 'charges')\n",
    "sns.barplot(ax=ax2,data=df,x='charges',y = 'bmi')\n",
    "sns.barplot(ax=ax3,data=df,x='children',y = 'charges')\n",
    "sns.barplot(ax=ax4,data=df,x='smoker',y = 'charges')\n",
    "sns.barplot(ax=ax5,data=df,x='region',y = 'charges')"
   ]
  },
  {
   "cell_type": "code",
   "execution_count": 13,
   "id": "2f498bbe",
   "metadata": {
    "execution": {
     "iopub.execute_input": "2022-12-07T07:50:52.717655Z",
     "iopub.status.busy": "2022-12-07T07:50:52.716969Z",
     "iopub.status.idle": "2022-12-07T07:50:53.050073Z",
     "shell.execute_reply": "2022-12-07T07:50:53.048792Z"
    },
    "papermill": {
     "duration": 0.347605,
     "end_time": "2022-12-07T07:50:53.053641",
     "exception": false,
     "start_time": "2022-12-07T07:50:52.706036",
     "status": "completed"
    },
    "tags": []
   },
   "outputs": [
    {
     "data": {
      "text/plain": [
       "<AxesSubplot:>"
      ]
     },
     "execution_count": 13,
     "metadata": {},
     "output_type": "execute_result"
    },
    {
     "data": {
      "image/png": "[encoded data removed]",
      "text/plain": [
       "<Figure size 432x288 with 2 Axes>"
      ]
     },
     "metadata": {
      "needs_background": "light"
     },
     "output_type": "display_data"
    }
   ],
   "source": [
    "sns.heatmap(df.corr())"
   ]
  },
  {
   "cell_type": "code",
   "execution_count": 14,
   "id": "5e930172",
   "metadata": {
    "execution": {
     "iopub.execute_input": "2022-12-07T07:50:53.078346Z",
     "iopub.status.busy": "2022-12-07T07:50:53.077884Z",
     "iopub.status.idle": "2022-12-07T07:50:53.369799Z",
     "shell.execute_reply": "2022-12-07T07:50:53.368146Z"
    },
    "papermill": {
     "duration": 0.309242,
     "end_time": "2022-12-07T07:50:53.374291",
     "exception": false,
     "start_time": "2022-12-07T07:50:53.065049",
     "status": "completed"
    },
    "tags": []
   },
   "outputs": [
    {
     "data": {
      "image/png": "[encoded data removed]",
      "text/plain": [
       "<Figure size 288x288 with 1 Axes>"
      ]
     },
     "metadata": {
      "needs_background": "light"
     },
     "output_type": "display_data"
    }
   ],
   "source": [
    "plt.matshow(df.corr())\n",
    "plt.show()"
   ]
  },
  {
   "cell_type": "code",
   "execution_count": 15,
   "id": "251b146d",
   "metadata": {
    "execution": {
     "iopub.execute_input": "2022-12-07T07:50:53.419949Z",
     "iopub.status.busy": "2022-12-07T07:50:53.418510Z",
     "iopub.status.idle": "2022-12-07T07:50:53.430723Z",
     "shell.execute_reply": "2022-12-07T07:50:53.429717Z"
    },
    "papermill": {
     "duration": 0.033161,
     "end_time": "2022-12-07T07:50:53.433282",
     "exception": false,
     "start_time": "2022-12-07T07:50:53.400121",
     "status": "completed"
    },
    "tags": []
   },
   "outputs": [],
   "source": [
    "X = df.drop(columns = ['smoker'])\n",
    "y = df['smoker']\n",
    "\n",
    "X_train, X_test, y_train, y_test = train_test_split(X, y,\n",
    "                                                   test_size = 0.25,\n",
    "                                                   random_state=42)"
   ]
  },
  {
   "cell_type": "code",
   "execution_count": 16,
   "id": "0243c86b",
   "metadata": {
    "execution": {
     "iopub.execute_input": "2022-12-07T07:50:53.456130Z",
     "iopub.status.busy": "2022-12-07T07:50:53.455380Z",
     "iopub.status.idle": "2022-12-07T07:50:53.504274Z",
     "shell.execute_reply": "2022-12-07T07:50:53.503092Z"
    },
    "papermill": {
     "duration": 0.063429,
     "end_time": "2022-12-07T07:50:53.507224",
     "exception": false,
     "start_time": "2022-12-07T07:50:53.443795",
     "status": "completed"
    },
    "tags": []
   },
   "outputs": [
    {
     "data": {
      "text/plain": [
       "0.9680957128614157"
      ]
     },
     "execution_count": 16,
     "metadata": {},
     "output_type": "execute_result"
    }
   ],
   "source": [
    "pipe1 = Pipeline([\n",
    "    ('scaler', StandardScaler()),\n",
    "    ('model', SVC(random_state=42))\n",
    "])\n",
    "\n",
    "model_svm = pipe1.fit(X_train, y_train)\n",
    "\n",
    "y_pred_svm = model_svm.predict(X_test)\n",
    "model_svm.score(X_train, y_train)"
   ]
  },
  {
   "cell_type": "code",
   "execution_count": 17,
   "id": "f8f68aab",
   "metadata": {
    "execution": {
     "iopub.execute_input": "2022-12-07T07:50:53.529190Z",
     "iopub.status.busy": "2022-12-07T07:50:53.528784Z",
     "iopub.status.idle": "2022-12-07T07:50:53.589975Z",
     "shell.execute_reply": "2022-12-07T07:50:53.588910Z"
    },
    "papermill": {
     "duration": 0.075599,
     "end_time": "2022-12-07T07:50:53.592821",
     "exception": false,
     "start_time": "2022-12-07T07:50:53.517222",
     "status": "completed"
    },
    "tags": []
   },
   "outputs": [
    {
     "data": {
      "text/plain": [
       "0.9581256231306082"
      ]
     },
     "execution_count": 17,
     "metadata": {},
     "output_type": "execute_result"
    }
   ],
   "source": [
    "pipe2 = Pipeline([\n",
    "    ('scaler', StandardScaler()),\n",
    "    ('model', KNeighborsClassifier())\n",
    "])\n",
    "\n",
    "\n",
    "model_kn = pipe2.fit(X_train, y_train)\n",
    "\n",
    "y_pred_kn = model_kn.predict(X_test)\n",
    "\n",
    "model_kn.score(X_train, y_train)"
   ]
  },
  {
   "cell_type": "code",
   "execution_count": 18,
   "id": "925ddb43",
   "metadata": {
    "execution": {
     "iopub.execute_input": "2022-12-07T07:50:53.614411Z",
     "iopub.status.busy": "2022-12-07T07:50:53.613995Z",
     "iopub.status.idle": "2022-12-07T07:50:53.644284Z",
     "shell.execute_reply": "2022-12-07T07:50:53.642958Z"
    },
    "papermill": {
     "duration": 0.043945,
     "end_time": "2022-12-07T07:50:53.646655",
     "exception": false,
     "start_time": "2022-12-07T07:50:53.602710",
     "status": "completed"
    },
    "tags": []
   },
   "outputs": [
    {
     "data": {
      "text/plain": [
       "0.9571286141575274"
      ]
     },
     "execution_count": 18,
     "metadata": {},
     "output_type": "execute_result"
    }
   ],
   "source": [
    "pipe3 = Pipeline([\n",
    "    ('scaler', StandardScaler()),\n",
    "    ('model', LogisticRegression())\n",
    "])\n",
    "\n",
    "model_lr = pipe3.fit(X_train, y_train)\n",
    "\n",
    "y_pred_lr = model_lr.predict(X_test)\n",
    "model_lr.score(X_train, y_train)"
   ]
  },
  {
   "cell_type": "code",
   "execution_count": 19,
   "id": "34718303",
   "metadata": {
    "execution": {
     "iopub.execute_input": "2022-12-07T07:50:53.668808Z",
     "iopub.status.busy": "2022-12-07T07:50:53.667836Z",
     "iopub.status.idle": "2022-12-07T07:50:53.919993Z",
     "shell.execute_reply": "2022-12-07T07:50:53.918789Z"
    },
    "papermill": {
     "duration": 0.265752,
     "end_time": "2022-12-07T07:50:53.922550",
     "exception": false,
     "start_time": "2022-12-07T07:50:53.656798",
     "status": "completed"
    },
    "tags": []
   },
   "outputs": [
    {
     "data": {
      "text/plain": [
       "1.0"
      ]
     },
     "execution_count": 19,
     "metadata": {},
     "output_type": "execute_result"
    }
   ],
   "source": [
    "pipe4 = Pipeline([('scaler', StandardScaler()), \n",
    "                 ('model', RandomForestClassifier())])\n",
    "\n",
    "model_rf = pipe4.fit(X_train, y_train)\n",
    "\n",
    "y_pred_rf = model_rf.predict(X_test)\n",
    "model_rf.score(X_train, y_train)"
   ]
  },
  {
   "cell_type": "code",
   "execution_count": 20,
   "id": "c94a2209",
   "metadata": {
    "execution": {
     "iopub.execute_input": "2022-12-07T07:50:53.945521Z",
     "iopub.status.busy": "2022-12-07T07:50:53.944667Z",
     "iopub.status.idle": "2022-12-07T07:50:54.136196Z",
     "shell.execute_reply": "2022-12-07T07:50:54.134978Z"
    },
    "papermill": {
     "duration": 0.205699,
     "end_time": "2022-12-07T07:50:54.138591",
     "exception": false,
     "start_time": "2022-12-07T07:50:53.932892",
     "status": "completed"
    },
    "tags": []
   },
   "outputs": [
    {
     "data": {
      "text/plain": [
       "0.9970089730807578"
      ]
     },
     "execution_count": 20,
     "metadata": {},
     "output_type": "execute_result"
    }
   ],
   "source": [
    "pipe5 = Pipeline([('scaler', StandardScaler()), \n",
    "                 ('model', GradientBoostingClassifier())])\n",
    "model_gb = pipe5.fit(X_train, y_train)\n",
    "\n",
    "y_pred_gb = model_gb.predict(X_test)\n",
    "\n",
    "model_gb.score(X_train, y_train)"
   ]
  },
  {
   "cell_type": "code",
   "execution_count": 21,
   "id": "5e3ffbc9",
   "metadata": {
    "execution": {
     "iopub.execute_input": "2022-12-07T07:50:54.161309Z",
     "iopub.status.busy": "2022-12-07T07:50:54.160636Z",
     "iopub.status.idle": "2022-12-07T07:50:54.174214Z",
     "shell.execute_reply": "2022-12-07T07:50:54.173312Z"
    },
    "papermill": {
     "duration": 0.027995,
     "end_time": "2022-12-07T07:50:54.176746",
     "exception": false,
     "start_time": "2022-12-07T07:50:54.148751",
     "status": "completed"
    },
    "tags": []
   },
   "outputs": [],
   "source": [
    "pipe6 = make_pipeline(StandardScaler(), DecisionTreeClassifier())\n",
    "model_dt = pipe6.fit(X_train, y_train)\n",
    "\n",
    "y_pred_dt = model_dt.predict(X_test)\n"
   ]
  },
  {
   "cell_type": "code",
   "execution_count": 22,
   "id": "31585f6f",
   "metadata": {
    "execution": {
     "iopub.execute_input": "2022-12-07T07:50:54.200768Z",
     "iopub.status.busy": "2022-12-07T07:50:54.200001Z",
     "iopub.status.idle": "2022-12-07T07:50:54.210574Z",
     "shell.execute_reply": "2022-12-07T07:50:54.208770Z"
    },
    "papermill": {
     "duration": 0.027047,
     "end_time": "2022-12-07T07:50:54.214632",
     "exception": false,
     "start_time": "2022-12-07T07:50:54.187585",
     "status": "completed"
    },
    "tags": []
   },
   "outputs": [
    {
     "name": "stdout",
     "output_type": "stream",
     "text": [
      "Accuracy score SVM: 0.9642\n",
      "Accuracy score KN:  0.9493\n",
      "Accuracy score LR:  0.9612\n",
      "Accuracy score RF:  0.9701\n",
      "Accuracy score GB:  0.9701\n",
      "Accuracy score DT:  0.9612\n"
     ]
    }
   ],
   "source": [
    "print('Accuracy score SVM: {:.4f}' .format(accuracy_score(y_test, y_pred_svm)))\n",
    "print('Accuracy score KN:  {:.4f}' .format(accuracy_score(y_test, y_pred_kn)))\n",
    "print('Accuracy score LR:  {:.4f}' .format(accuracy_score(y_test, y_pred_lr)))\n",
    "print('Accuracy score RF:  {:.4f}' .format(accuracy_score(y_test, y_pred_rf)))\n",
    "print('Accuracy score GB:  {:.4f}' .format(accuracy_score(y_test, y_pred_gb)))\n",
    "print('Accuracy score DT:  {:.4f}' .format(accuracy_score(y_test, y_pred_dt)))"
   ]
  },
  {
   "cell_type": "code",
   "execution_count": 23,
   "id": "0b6f43ca",
   "metadata": {
    "execution": {
     "iopub.execute_input": "2022-12-07T07:50:54.237451Z",
     "iopub.status.busy": "2022-12-07T07:50:54.237062Z",
     "iopub.status.idle": "2022-12-07T07:50:54.268858Z",
     "shell.execute_reply": "2022-12-07T07:50:54.267297Z"
    },
    "papermill": {
     "duration": 0.046175,
     "end_time": "2022-12-07T07:50:54.271574",
     "exception": false,
     "start_time": "2022-12-07T07:50:54.225399",
     "status": "completed"
    },
    "tags": []
   },
   "outputs": [
    {
     "name": "stdout",
     "output_type": "stream",
     "text": [
      "Random Forest Report\n",
      "              precision    recall  f1-score   support\n",
      "\n",
      "           0       0.99      0.97      0.98       267\n",
      "           1       0.89      0.97      0.93        68\n",
      "\n",
      "    accuracy                           0.97       335\n",
      "   macro avg       0.94      0.97      0.96       335\n",
      "weighted avg       0.97      0.97      0.97       335\n",
      "\n",
      "Support Vector Classifier Report\n",
      "              precision    recall  f1-score   support\n",
      "\n",
      "           0       1.00      0.96      0.98       267\n",
      "           1       0.85      1.00      0.92        68\n",
      "\n",
      "    accuracy                           0.96       335\n",
      "   macro avg       0.93      0.98      0.95       335\n",
      "weighted avg       0.97      0.96      0.97       335\n",
      "\n",
      "Kneighbors Report\n",
      "              precision    recall  f1-score   support\n",
      "\n",
      "           0       0.97      0.96      0.97       267\n",
      "           1       0.86      0.90      0.88        68\n",
      "\n",
      "    accuracy                           0.95       335\n",
      "   macro avg       0.92      0.93      0.92       335\n",
      "weighted avg       0.95      0.95      0.95       335\n",
      "\n",
      "Decision Tree Report\n",
      "              precision    recall  f1-score   support\n",
      "\n",
      "           0       0.98      0.97      0.98       267\n",
      "           1       0.89      0.93      0.91        68\n",
      "\n",
      "    accuracy                           0.96       335\n",
      "   macro avg       0.93      0.95      0.94       335\n",
      "weighted avg       0.96      0.96      0.96       335\n",
      "\n",
      "Gradient Boosting Report\n",
      "              precision    recall  f1-score   support\n",
      "\n",
      "           0       0.99      0.97      0.98       267\n",
      "           1       0.89      0.97      0.93        68\n",
      "\n",
      "    accuracy                           0.97       335\n",
      "   macro avg       0.94      0.97      0.96       335\n",
      "weighted avg       0.97      0.97      0.97       335\n",
      "\n",
      "Logistic Regression Report\n",
      "              precision    recall  f1-score   support\n",
      "\n",
      "           0       0.98      0.97      0.98       267\n",
      "           1       0.88      0.94      0.91        68\n",
      "\n",
      "    accuracy                           0.96       335\n",
      "   macro avg       0.93      0.95      0.94       335\n",
      "weighted avg       0.96      0.96      0.96       335\n",
      "\n"
     ]
    }
   ],
   "source": [
    "print('Random Forest Report')\n",
    "print(classification_report(y_test, y_pred_rf))\n",
    "print('Support Vector Classifier Report')\n",
    "print(classification_report(y_test, y_pred_svm))\n",
    "print('Kneighbors Report')\n",
    "print(classification_report(y_test, y_pred_kn))\n",
    "print('Decision Tree Report')\n",
    "print(classification_report(y_test, y_pred_dt))\n",
    "print('Gradient Boosting Report')\n",
    "print(classification_report(y_test, y_pred_gb))\n",
    "print('Logistic Regression Report')\n",
    "print(classification_report(y_test, y_pred_lr))"
   ]
  },
  {
   "cell_type": "code",
   "execution_count": 24,
   "id": "60041303",
   "metadata": {
    "execution": {
     "iopub.execute_input": "2022-12-07T07:50:54.294516Z",
     "iopub.status.busy": "2022-12-07T07:50:54.293425Z",
     "iopub.status.idle": "2022-12-07T07:50:54.559231Z",
     "shell.execute_reply": "2022-12-07T07:50:54.558084Z"
    },
    "papermill": {
     "duration": 0.280288,
     "end_time": "2022-12-07T07:50:54.562166",
     "exception": false,
     "start_time": "2022-12-07T07:50:54.281878",
     "status": "completed"
    },
    "tags": []
   },
   "outputs": [
    {
     "data": {
      "text/plain": [
       "<sklearn.metrics._plot.roc_curve.RocCurveDisplay at 0x7f1d7f1f0dd0>"
      ]
     },
     "execution_count": 24,
     "metadata": {},
     "output_type": "execute_result"
    },
    {
     "data": {
      "image/png": "[encoded data removed]",
      "text/plain": [
       "<Figure size 432x288 with 1 Axes>"
      ]
     },
     "metadata": {
      "needs_background": "light"
     },
     "output_type": "display_data"
    }
   ],
   "source": [
    "plot_roc_curve(model_rf, X_test, y_test)"
   ]
  },
  {
   "cell_type": "code",
   "execution_count": 25,
   "id": "679fd8e9",
   "metadata": {
    "execution": {
     "iopub.execute_input": "2022-12-07T07:50:54.585193Z",
     "iopub.status.busy": "2022-12-07T07:50:54.584795Z",
     "iopub.status.idle": "2022-12-07T07:50:54.830535Z",
     "shell.execute_reply": "2022-12-07T07:50:54.829295Z"
    },
    "papermill": {
     "duration": 0.260756,
     "end_time": "2022-12-07T07:50:54.833508",
     "exception": false,
     "start_time": "2022-12-07T07:50:54.572752",
     "status": "completed"
    },
    "tags": []
   },
   "outputs": [
    {
     "data": {
      "image/png": "[encoded data removed]",
      "text/plain": [
       "<Figure size 432x288 with 2 Axes>"
      ]
     },
     "metadata": {
      "needs_background": "light"
     },
     "output_type": "display_data"
    }
   ],
   "source": [
    "predictions = model_rf.predict(X_test)\n",
    "cm = confusion_matrix(y_test, y_pred_rf, labels = model_rf.classes_)\n",
    "disp = ConfusionMatrixDisplay(confusion_matrix = cm, display_labels = model_rf.classes_)\n",
    "disp.plot()\n",
    "plt.show()"
   ]
  },
  {
   "cell_type": "code",
   "execution_count": 26,
   "id": "b7727ef8",
   "metadata": {
    "execution": {
     "iopub.execute_input": "2022-12-07T07:50:54.857064Z",
     "iopub.status.busy": "2022-12-07T07:50:54.856671Z",
     "iopub.status.idle": "2022-12-07T07:50:54.861569Z",
     "shell.execute_reply": "2022-12-07T07:50:54.860291Z"
    },
    "papermill": {
     "duration": 0.019373,
     "end_time": "2022-12-07T07:50:54.863956",
     "exception": false,
     "start_time": "2022-12-07T07:50:54.844583",
     "status": "completed"
    },
    "tags": []
   },
   "outputs": [],
   "source": [
    "# Calculating Model Specificity and Sensitivity"
   ]
  }
 ],
 "metadata": {
  "kernelspec": {
   "display_name": "Python 3",
   "language": "python",
   "name": "python3"
  },
  "language_info": {
   "codemirror_mode": {
    "name": "ipython",
    "version": 3
   },
   "file_extension": ".py",
   "mimetype": "text/x-python",
   "name": "python",
   "nbconvert_exporter": "python",
   "pygments_lexer": "ipython3",
   "version": "3.7.12"
  },
  "papermill": {
   "default_parameters": {},
   "duration": 60.602375,
   "end_time": "2022-12-07T07:50:56.199377",
   "environment_variables": {},
   "exception": null,
   "input_path": "__notebook__.ipynb",
   "output_path": "__notebook__.ipynb",
   "parameters": {},
   "start_time": "2022-12-07T07:49:55.597002",
   "version": "2.3.4"
  }
 },
 "nbformat": 4,
 "nbformat_minor": 5
}
