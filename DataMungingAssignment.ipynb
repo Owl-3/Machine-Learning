{
  "nbformat": 4,
  "nbformat_minor": 0,
  "metadata": {
    "colab": {
      "provenance": [],
      "mount_file_id": "1MWCZbz0UY0XPLoDrHcbMtjQ2mc42h4zM",
      "authorship_tag": "ABX9TyPJsWjLGnC4nChzVuDRImBc",
      "include_colab_link": true
    },
    "kernelspec": {
      "name": "python3",
      "display_name": "Python 3"
    },
    "language_info": {
      "name": "python"
    }
  },
  "cells": [
    {
      "cell_type": "markdown",
      "metadata": {
        "id": "view-in-github",
        "colab_type": "text"
      },
      "source": [
        "<a href=\"https://colab.research.google.com/github/Owl-3/Machine-Learning/blob/main/DataMungingAssignment.ipynb\" target=\"_parent\"><img src=\"https://colab.research.google.com/assets/colab-badge.svg\" alt=\"Open In Colab\"/></a>"
      ]
    },
    {
      "cell_type": "markdown",
      "source": [
        "## Assignment Questions\n",
        "1. How many bookings of arrestees were made in 2018? [5]</br>\n",
        "2. How many bookings of arrestees were made in each area and which area has the most arrests in 2018?[5]</br>\n",
        "3. There are differences between the average age of an arrestee for the various charge groups. Find the average age of arrestees per each charge group.Only consider data for 2018. Do not consider \"Pre-Delinquency\" and \"Non-Criminal Detention\" as these charge groups are reserved for minors\n",
        "Exclude any arrests where the charge group description is not known        [5]</br>\n",
        "4. What is the 95% quantile of the age of the arrestee in 2018? Only consider the following charge groups for your analysis:\n",
        "Vehicle Theft \n",
        "Robbery\n",
        "Burglary\n",
        "Receive Stolen Property                                                                               [5]</br>\n",
        "5. Crime arrest incidents have been dropping over the years. Using a linear regression for the data from 2010 and 2018 (inclusive), predict number of crime arrests in 2019? Round to the nearest integer. Note, the data set includes arrests for misdemeanor, felonies, etc.                                              [5]</br>\n",
        "6. How many arrest incidents occurred within 2 km from the Bradbury Building in 2018? Use (34.050536, -118.247861) for the coordinates of the Bradbury Building . For simplicity, please use the spherical Earth projected to a plane equation for calculating distances. Use the radius of the Earth as 6371 km. Note, some arrest records are missing location data and the location is listed as (0, 0). These records should not factor in your calculation.[5]   "
      ],
      "metadata": {
        "id": "s0xzDjbXk6ZQ"
      }
    },
    {
      "cell_type": "code",
      "source": [
        "# Installing python libraries"
      ],
      "metadata": {
        "id": "Oy-24ESZjaWR"
      },
      "execution_count": null,
      "outputs": []
    },
    {
      "cell_type": "code",
      "execution_count": null,
      "metadata": {
        "colab": {
          "base_uri": "https://localhost:8080/"
        },
        "id": "56i1z16YgbZ5",
        "outputId": "d8496dd5-96c6-45ec-f4ac-fa6e85ba22ff"
      },
      "outputs": [
        {
          "output_type": "stream",
          "name": "stdout",
          "text": [
            "Looking in indexes: https://pypi.org/simple, https://us-python.pkg.dev/colab-wheels/public/simple/\n",
            "Requirement already satisfied: pandas in /usr/local/lib/python3.8/dist-packages (1.3.5)\n",
            "Requirement already satisfied: pytz>=2017.3 in /usr/local/lib/python3.8/dist-packages (from pandas) (2022.7)\n",
            "Requirement already satisfied: numpy>=1.17.3 in /usr/local/lib/python3.8/dist-packages (from pandas) (1.21.6)\n",
            "Requirement already satisfied: python-dateutil>=2.7.3 in /usr/local/lib/python3.8/dist-packages (from pandas) (2.8.2)\n",
            "Requirement already satisfied: six>=1.5 in /usr/local/lib/python3.8/dist-packages (from python-dateutil>=2.7.3->pandas) (1.15.0)\n",
            "Looking in indexes: https://pypi.org/simple, https://us-python.pkg.dev/colab-wheels/public/simple/\n",
            "Requirement already satisfied: numpy in /usr/local/lib/python3.8/dist-packages (1.21.6)\n",
            "Looking in indexes: https://pypi.org/simple, https://us-python.pkg.dev/colab-wheels/public/simple/\n",
            "Requirement already satisfied: matplotlib in /usr/local/lib/python3.8/dist-packages (3.2.2)\n",
            "Requirement already satisfied: cycler>=0.10 in /usr/local/lib/python3.8/dist-packages (from matplotlib) (0.11.0)\n",
            "Requirement already satisfied: pyparsing!=2.0.4,!=2.1.2,!=2.1.6,>=2.0.1 in /usr/local/lib/python3.8/dist-packages (from matplotlib) (3.0.9)\n",
            "Requirement already satisfied: python-dateutil>=2.1 in /usr/local/lib/python3.8/dist-packages (from matplotlib) (2.8.2)\n",
            "Requirement already satisfied: kiwisolver>=1.0.1 in /usr/local/lib/python3.8/dist-packages (from matplotlib) (1.4.4)\n",
            "Requirement already satisfied: numpy>=1.11 in /usr/local/lib/python3.8/dist-packages (from matplotlib) (1.21.6)\n",
            "Requirement already satisfied: six>=1.5 in /usr/local/lib/python3.8/dist-packages (from python-dateutil>=2.1->matplotlib) (1.15.0)\n"
          ]
        }
      ],
      "source": [
        "!pip install pandas\n",
        "!pip install numpy\n",
        "!pip install matplotlib"
      ]
    },
    {
      "cell_type": "code",
      "source": [
        "!pip install seaborn\n",
        "!pip install sklearn"
      ],
      "metadata": {
        "colab": {
          "base_uri": "https://localhost:8080/"
        },
        "id": "M5K5zrL6h4V7",
        "outputId": "ba704253-4bdc-4495-b605-584bfc5c1e30"
      },
      "execution_count": 27,
      "outputs": [
        {
          "output_type": "stream",
          "name": "stdout",
          "text": [
            "Looking in indexes: https://pypi.org/simple, https://us-python.pkg.dev/colab-wheels/public/simple/\n",
            "Requirement already satisfied: seaborn in /usr/local/lib/python3.8/dist-packages (0.11.2)\n",
            "Requirement already satisfied: numpy>=1.15 in /usr/local/lib/python3.8/dist-packages (from seaborn) (1.21.6)\n",
            "Requirement already satisfied: matplotlib>=2.2 in /usr/local/lib/python3.8/dist-packages (from seaborn) (3.2.2)\n",
            "Requirement already satisfied: pandas>=0.23 in /usr/local/lib/python3.8/dist-packages (from seaborn) (1.3.5)\n",
            "Requirement already satisfied: scipy>=1.0 in /usr/local/lib/python3.8/dist-packages (from seaborn) (1.7.3)\n",
            "Requirement already satisfied: kiwisolver>=1.0.1 in /usr/local/lib/python3.8/dist-packages (from matplotlib>=2.2->seaborn) (1.4.4)\n",
            "Requirement already satisfied: cycler>=0.10 in /usr/local/lib/python3.8/dist-packages (from matplotlib>=2.2->seaborn) (0.11.0)\n",
            "Requirement already satisfied: pyparsing!=2.0.4,!=2.1.2,!=2.1.6,>=2.0.1 in /usr/local/lib/python3.8/dist-packages (from matplotlib>=2.2->seaborn) (3.0.9)\n",
            "Requirement already satisfied: python-dateutil>=2.1 in /usr/local/lib/python3.8/dist-packages (from matplotlib>=2.2->seaborn) (2.8.2)\n",
            "Requirement already satisfied: pytz>=2017.3 in /usr/local/lib/python3.8/dist-packages (from pandas>=0.23->seaborn) (2022.7)\n",
            "Requirement already satisfied: six>=1.5 in /usr/local/lib/python3.8/dist-packages (from python-dateutil>=2.1->matplotlib>=2.2->seaborn) (1.15.0)\n",
            "Looking in indexes: https://pypi.org/simple, https://us-python.pkg.dev/colab-wheels/public/simple/\n",
            "Collecting sklearn\n",
            "  Downloading sklearn-0.0.post1.tar.gz (3.6 kB)\n",
            "  Preparing metadata (setup.py) ... \u001b[?25l\u001b[?25hdone\n",
            "Building wheels for collected packages: sklearn\n",
            "  Building wheel for sklearn (setup.py) ... \u001b[?25l\u001b[?25hdone\n",
            "  Created wheel for sklearn: filename=sklearn-0.0.post1-py3-none-any.whl size=2344 sha256=46bc9fa31ad5106799f6cb30d546181f2f7d1be5f7e090b4005e6e4ac2e278c4\n",
            "  Stored in directory: /root/.cache/pip/wheels/14/25/f7/1cc0956978ae479e75140219088deb7a36f60459df242b1a72\n",
            "Successfully built sklearn\n",
            "Installing collected packages: sklearn\n",
            "Successfully installed sklearn-0.0.post1\n"
          ]
        }
      ]
    },
    {
      "cell_type": "code",
      "source": [
        "# Mounting the drive on google collab\n",
        "from google.colab import drive\n",
        "drive.mount('/content/drive')"
      ],
      "metadata": {
        "id": "hNyx9Yom_Ja7",
        "colab": {
          "base_uri": "https://localhost:8080/"
        },
        "outputId": "7dfbafe2-b106-4e0f-cca8-a45c65c1f7df"
      },
      "execution_count": null,
      "outputs": [
        {
          "output_type": "stream",
          "name": "stdout",
          "text": [
            "Drive already mounted at /content/drive; to attempt to forcibly remount, call drive.mount(\"/content/drive\", force_remount=True).\n"
          ]
        }
      ]
    },
    {
      "cell_type": "markdown",
      "source": [
        "### Importing library dependencies"
      ],
      "metadata": {
        "id": "yKe1vDuWjH7T"
      }
    },
    {
      "cell_type": "code",
      "source": [
        "import pandas as pd\n",
        "import numpy as np\n",
        "import matplotlib.pyplot as plt\n",
        "import seaborn as sns"
      ],
      "metadata": {
        "id": "GWBo7bUDiyHG"
      },
      "execution_count": 1,
      "outputs": []
    },
    {
      "cell_type": "markdown",
      "source": [
        "Loading the Dataset"
      ],
      "metadata": {
        "id": "vRxiFCE1kt2h"
      }
    },
    {
      "cell_type": "code",
      "source": [
        "%cd /content/drive"
      ],
      "metadata": {
        "id": "ok2LvnLl_v22",
        "colab": {
          "base_uri": "https://localhost:8080/"
        },
        "outputId": "12901590-e418-4252-818a-9350582b7683"
      },
      "execution_count": 28,
      "outputs": [
        {
          "output_type": "stream",
          "name": "stdout",
          "text": [
            "/content/drive\n"
          ]
        }
      ]
    },
    {
      "cell_type": "code",
      "source": [
        "%pwd"
      ],
      "metadata": {
        "id": "rlV0Vlq2h_2a",
        "colab": {
          "base_uri": "https://localhost:8080/",
          "height": 35
        },
        "outputId": "4aebe03d-c577-46f6-a22e-bb9ff9fcd39d"
      },
      "execution_count": 29,
      "outputs": [
        {
          "output_type": "execute_result",
          "data": {
            "text/plain": [
              "'/content/drive'"
            ],
            "application/vnd.google.colaboratory.intrinsic+json": {
              "type": "string"
            }
          },
          "metadata": {},
          "execution_count": 29
        }
      ]
    },
    {
      "cell_type": "code",
      "source": [
        "arrest_df = pd.read_csv('/content/drive/MyDrive/Artificial Intelligence/Datasets/Arrest_Data_from_2010_to_Present.csv')\n",
        "arrest_df.head()"
      ],
      "metadata": {
        "id": "zhy05VXsh4Yj",
        "colab": {
          "base_uri": "https://localhost:8080/",
          "height": 444
        },
        "outputId": "c25ce053-e10f-41c4-a5c5-6262c804241e"
      },
      "execution_count": 2,
      "outputs": [
        {
          "output_type": "stream",
          "name": "stderr",
          "text": [
            "/usr/local/lib/python3.8/dist-packages/IPython/core/interactiveshell.py:3326: DtypeWarning: Columns (0) have mixed types.Specify dtype option on import or set low_memory=False.\n",
            "  exec(code_obj, self.user_global_ns, self.user_ns)\n"
          ]
        },
        {
          "output_type": "execute_result",
          "data": {
            "text/plain": [
              "   Report ID Arrest Date    Time  Area ID  Area Name  Reporting District  \\\n",
              "0    4248313  02/24/2015  1310.0     20.0    Olympic              2022.0   \n",
              "1  191811472  05/03/2019  1700.0     18.0  Southeast              1802.0   \n",
              "2    4254777  02/26/2015  2010.0     19.0    Mission              1985.0   \n",
              "3    5614161  04/29/2019  1040.0      8.0    West LA               842.0   \n",
              "4    5615197  04/30/2019   615.0      6.0  Hollywood               663.0   \n",
              "\n",
              "    Age Sex Code Descent Code  Charge Group Code Charge Group Description  \\\n",
              "0  37.0        M            H                5.0                 Burglary   \n",
              "1  23.0        F            B                NaN                      NaN   \n",
              "2  22.0        M            H                6.0                  Larceny   \n",
              "3  41.0        M            H                3.0                  Robbery   \n",
              "4  27.0        M            O                5.0                 Burglary   \n",
              "\n",
              "  Arrest Type Code     Charge Charge Description  \\\n",
              "0                F      459PC           BURGLARY   \n",
              "1                M  653.22 PC                NaN   \n",
              "2                M    459.5PC        SHOPLIFTING   \n",
              "3                F      211PC            ROBBERY   \n",
              "4                F      459PC           BURGLARY   \n",
              "\n",
              "                                    Address Cross Street              Location  \n",
              "0                                       5TH       WILTON   (34.0653, -118.314)  \n",
              "1                                      91ST     FIGUEROA  (33.9543, -118.2827)  \n",
              "2   8300    VAN NUYS                     BL          NaN  (34.2216, -118.4488)  \n",
              "3  11600    WILSHIRE                     BL          NaN  (34.0508, -118.4592)  \n",
              "4                                   LA BREA    LEXINGTON  (34.0907, -118.3384)  "
            ],
            "text/html": [
              "\n",
              "  <div id=\"df-f96c1d9e-1465-4f91-9057-7005ee8e7ee1\">\n",
              "    <div class=\"colab-df-container\">\n",
              "      <div>\n",
              "<style scoped>\n",
              "    .dataframe tbody tr th:only-of-type {\n",
              "        vertical-align: middle;\n",
              "    }\n",
              "\n",
              "    .dataframe tbody tr th {\n",
              "        vertical-align: top;\n",
              "    }\n",
              "\n",
              "    .dataframe thead th {\n",
              "        text-align: right;\n",
              "    }\n",
              "</style>\n",
              "<table border=\"1\" class=\"dataframe\">\n",
              "  <thead>\n",
              "    <tr style=\"text-align: right;\">\n",
              "      <th></th>\n",
              "      <th>Report ID</th>\n",
              "      <th>Arrest Date</th>\n",
              "      <th>Time</th>\n",
              "      <th>Area ID</th>\n",
              "      <th>Area Name</th>\n",
              "      <th>Reporting District</th>\n",
              "      <th>Age</th>\n",
              "      <th>Sex Code</th>\n",
              "      <th>Descent Code</th>\n",
              "      <th>Charge Group Code</th>\n",
              "      <th>Charge Group Description</th>\n",
              "      <th>Arrest Type Code</th>\n",
              "      <th>Charge</th>\n",
              "      <th>Charge Description</th>\n",
              "      <th>Address</th>\n",
              "      <th>Cross Street</th>\n",
              "      <th>Location</th>\n",
              "    </tr>\n",
              "  </thead>\n",
              "  <tbody>\n",
              "    <tr>\n",
              "      <th>0</th>\n",
              "      <td>4248313</td>\n",
              "      <td>02/24/2015</td>\n",
              "      <td>1310.0</td>\n",
              "      <td>20.0</td>\n",
              "      <td>Olympic</td>\n",
              "      <td>2022.0</td>\n",
              "      <td>37.0</td>\n",
              "      <td>M</td>\n",
              "      <td>H</td>\n",
              "      <td>5.0</td>\n",
              "      <td>Burglary</td>\n",
              "      <td>F</td>\n",
              "      <td>459PC</td>\n",
              "      <td>BURGLARY</td>\n",
              "      <td>5TH</td>\n",
              "      <td>WILTON</td>\n",
              "      <td>(34.0653, -118.314)</td>\n",
              "    </tr>\n",
              "    <tr>\n",
              "      <th>1</th>\n",
              "      <td>191811472</td>\n",
              "      <td>05/03/2019</td>\n",
              "      <td>1700.0</td>\n",
              "      <td>18.0</td>\n",
              "      <td>Southeast</td>\n",
              "      <td>1802.0</td>\n",
              "      <td>23.0</td>\n",
              "      <td>F</td>\n",
              "      <td>B</td>\n",
              "      <td>NaN</td>\n",
              "      <td>NaN</td>\n",
              "      <td>M</td>\n",
              "      <td>653.22 PC</td>\n",
              "      <td>NaN</td>\n",
              "      <td>91ST</td>\n",
              "      <td>FIGUEROA</td>\n",
              "      <td>(33.9543, -118.2827)</td>\n",
              "    </tr>\n",
              "    <tr>\n",
              "      <th>2</th>\n",
              "      <td>4254777</td>\n",
              "      <td>02/26/2015</td>\n",
              "      <td>2010.0</td>\n",
              "      <td>19.0</td>\n",
              "      <td>Mission</td>\n",
              "      <td>1985.0</td>\n",
              "      <td>22.0</td>\n",
              "      <td>M</td>\n",
              "      <td>H</td>\n",
              "      <td>6.0</td>\n",
              "      <td>Larceny</td>\n",
              "      <td>M</td>\n",
              "      <td>459.5PC</td>\n",
              "      <td>SHOPLIFTING</td>\n",
              "      <td>8300    VAN NUYS                     BL</td>\n",
              "      <td>NaN</td>\n",
              "      <td>(34.2216, -118.4488)</td>\n",
              "    </tr>\n",
              "    <tr>\n",
              "      <th>3</th>\n",
              "      <td>5614161</td>\n",
              "      <td>04/29/2019</td>\n",
              "      <td>1040.0</td>\n",
              "      <td>8.0</td>\n",
              "      <td>West LA</td>\n",
              "      <td>842.0</td>\n",
              "      <td>41.0</td>\n",
              "      <td>M</td>\n",
              "      <td>H</td>\n",
              "      <td>3.0</td>\n",
              "      <td>Robbery</td>\n",
              "      <td>F</td>\n",
              "      <td>211PC</td>\n",
              "      <td>ROBBERY</td>\n",
              "      <td>11600    WILSHIRE                     BL</td>\n",
              "      <td>NaN</td>\n",
              "      <td>(34.0508, -118.4592)</td>\n",
              "    </tr>\n",
              "    <tr>\n",
              "      <th>4</th>\n",
              "      <td>5615197</td>\n",
              "      <td>04/30/2019</td>\n",
              "      <td>615.0</td>\n",
              "      <td>6.0</td>\n",
              "      <td>Hollywood</td>\n",
              "      <td>663.0</td>\n",
              "      <td>27.0</td>\n",
              "      <td>M</td>\n",
              "      <td>O</td>\n",
              "      <td>5.0</td>\n",
              "      <td>Burglary</td>\n",
              "      <td>F</td>\n",
              "      <td>459PC</td>\n",
              "      <td>BURGLARY</td>\n",
              "      <td>LA BREA</td>\n",
              "      <td>LEXINGTON</td>\n",
              "      <td>(34.0907, -118.3384)</td>\n",
              "    </tr>\n",
              "  </tbody>\n",
              "</table>\n",
              "</div>\n",
              "      <button class=\"colab-df-convert\" onclick=\"convertToInteractive('df-f96c1d9e-1465-4f91-9057-7005ee8e7ee1')\"\n",
              "              title=\"Convert this dataframe to an interactive table.\"\n",
              "              style=\"display:none;\">\n",
              "        \n",
              "  <svg xmlns=\"http://www.w3.org/2000/svg\" height=\"24px\"viewBox=\"0 0 24 24\"\n",
              "       width=\"24px\">\n",
              "    <path d=\"M0 0h24v24H0V0z\" fill=\"none\"/>\n",
              "    <path d=\"M18.56 5.44l.94 2.06.94-2.06 2.06-.94-2.06-.94-.94-2.06-.94 2.06-2.06.94zm-11 1L8.5 8.5l.94-2.06 2.06-.94-2.06-.94L8.5 2.5l-.94 2.06-2.06.94zm10 10l.94 2.06.94-2.06 2.06-.94-2.06-.94-.94-2.06-.94 2.06-2.06.94z\"/><path d=\"M17.41 7.96l-1.37-1.37c-.4-.4-.92-.59-1.43-.59-.52 0-1.04.2-1.43.59L10.3 9.45l-7.72 7.72c-.78.78-.78 2.05 0 2.83L4 21.41c.39.39.9.59 1.41.59.51 0 1.02-.2 1.41-.59l7.78-7.78 2.81-2.81c.8-.78.8-2.07 0-2.86zM5.41 20L4 18.59l7.72-7.72 1.47 1.35L5.41 20z\"/>\n",
              "  </svg>\n",
              "      </button>\n",
              "      \n",
              "  <style>\n",
              "    .colab-df-container {\n",
              "      display:flex;\n",
              "      flex-wrap:wrap;\n",
              "      gap: 12px;\n",
              "    }\n",
              "\n",
              "    .colab-df-convert {\n",
              "      background-color: #E8F0FE;\n",
              "      border: none;\n",
              "      border-radius: 50%;\n",
              "      cursor: pointer;\n",
              "      display: none;\n",
              "      fill: #1967D2;\n",
              "      height: 32px;\n",
              "      padding: 0 0 0 0;\n",
              "      width: 32px;\n",
              "    }\n",
              "\n",
              "    .colab-df-convert:hover {\n",
              "      background-color: #E2EBFA;\n",
              "      box-shadow: 0px 1px 2px rgba(60, 64, 67, 0.3), 0px 1px 3px 1px rgba(60, 64, 67, 0.15);\n",
              "      fill: #174EA6;\n",
              "    }\n",
              "\n",
              "    [theme=dark] .colab-df-convert {\n",
              "      background-color: #3B4455;\n",
              "      fill: #D2E3FC;\n",
              "    }\n",
              "\n",
              "    [theme=dark] .colab-df-convert:hover {\n",
              "      background-color: #434B5C;\n",
              "      box-shadow: 0px 1px 3px 1px rgba(0, 0, 0, 0.15);\n",
              "      filter: drop-shadow(0px 1px 2px rgba(0, 0, 0, 0.3));\n",
              "      fill: #FFFFFF;\n",
              "    }\n",
              "  </style>\n",
              "\n",
              "      <script>\n",
              "        const buttonEl =\n",
              "          document.querySelector('#df-f96c1d9e-1465-4f91-9057-7005ee8e7ee1 button.colab-df-convert');\n",
              "        buttonEl.style.display =\n",
              "          google.colab.kernel.accessAllowed ? 'block' : 'none';\n",
              "\n",
              "        async function convertToInteractive(key) {\n",
              "          const element = document.querySelector('#df-f96c1d9e-1465-4f91-9057-7005ee8e7ee1');\n",
              "          const dataTable =\n",
              "            await google.colab.kernel.invokeFunction('convertToInteractive',\n",
              "                                                     [key], {});\n",
              "          if (!dataTable) return;\n",
              "\n",
              "          const docLinkHtml = 'Like what you see? Visit the ' +\n",
              "            '<a target=\"_blank\" href=https://colab.research.google.com/notebooks/data_table.ipynb>data table notebook</a>'\n",
              "            + ' to learn more about interactive tables.';\n",
              "          element.innerHTML = '';\n",
              "          dataTable['output_type'] = 'display_data';\n",
              "          await google.colab.output.renderOutput(dataTable, element);\n",
              "          const docLink = document.createElement('div');\n",
              "          docLink.innerHTML = docLinkHtml;\n",
              "          element.appendChild(docLink);\n",
              "        }\n",
              "      </script>\n",
              "    </div>\n",
              "  </div>\n",
              "  "
            ]
          },
          "metadata": {},
          "execution_count": 2
        }
      ]
    },
    {
      "cell_type": "code",
      "source": [
        "arrest_df.info()"
      ],
      "metadata": {
        "id": "HNGRT7rbh4bx",
        "colab": {
          "base_uri": "https://localhost:8080/"
        },
        "outputId": "b5c5a6a0-f505-437b-f88d-f72ee9a944a4"
      },
      "execution_count": 30,
      "outputs": [
        {
          "output_type": "stream",
          "name": "stdout",
          "text": [
            "<class 'pandas.core.frame.DataFrame'>\n",
            "Int64Index: 1139374 entries, 0 to 1227515\n",
            "Data columns (total 17 columns):\n",
            " #   Column                    Non-Null Count    Dtype         \n",
            "---  ------                    --------------    -----         \n",
            " 0   report_id                 1139374 non-null  object        \n",
            " 1   arrest_date               1139374 non-null  datetime64[ns]\n",
            " 2   time                      1139374 non-null  float64       \n",
            " 3   area_id                   1139374 non-null  float64       \n",
            " 4   area_name                 1139374 non-null  object        \n",
            " 5   reporting_district        1139374 non-null  float64       \n",
            " 6   age                       1139374 non-null  float64       \n",
            " 7   sex_code                  1139374 non-null  object        \n",
            " 8   descent_code              1139374 non-null  object        \n",
            " 9   charge_group_code         1139374 non-null  float64       \n",
            " 10  charge_group_description  1139374 non-null  object        \n",
            " 11  arrest_type_code          1139374 non-null  object        \n",
            " 12  charge                    1139374 non-null  object        \n",
            " 13  charge_description        1139374 non-null  object        \n",
            " 14  address                   1139374 non-null  object        \n",
            " 15  location                  1139374 non-null  object        \n",
            " 16  year                      1139374 non-null  int64         \n",
            "dtypes: datetime64[ns](1), float64(5), int64(1), object(10)\n",
            "memory usage: 156.5+ MB\n"
          ]
        }
      ]
    },
    {
      "cell_type": "code",
      "source": [
        "arrest_df.describe()\n"
      ],
      "metadata": {
        "id": "2g9h0ElCkioi",
        "colab": {
          "base_uri": "https://localhost:8080/",
          "height": 300
        },
        "outputId": "b726a8c4-3905-4691-dda0-c6d886d84923"
      },
      "execution_count": 31,
      "outputs": [
        {
          "output_type": "execute_result",
          "data": {
            "text/plain": [
              "               time       area_id  reporting_district           age  \\\n",
              "count  1.139374e+06  1.139374e+06        1.139374e+06  1.139374e+06   \n",
              "mean   1.389534e+03  1.023197e+01        1.070161e+03  3.420294e+01   \n",
              "std    6.633751e+02  6.244202e+00        6.231099e+02  1.356656e+01   \n",
              "min    0.000000e+00  1.000000e+00        1.000000e+02  0.000000e+00   \n",
              "25%    9.450000e+02  5.000000e+00        5.210000e+02  2.300000e+01   \n",
              "50%    1.515000e+03  1.100000e+01        1.109000e+03  3.200000e+01   \n",
              "75%    1.930000e+03  1.500000e+01        1.553000e+03  4.500000e+01   \n",
              "max    2.400000e+03  2.100000e+01        2.199000e+03  9.600000e+01   \n",
              "\n",
              "       charge_group_code          year  \n",
              "count       1.139374e+06  1.139374e+06  \n",
              "mean        1.624930e+01  2.013530e+03  \n",
              "std         7.020063e+00  2.574919e+00  \n",
              "min         1.000000e+00  2.010000e+03  \n",
              "25%         1.100000e+01  2.011000e+03  \n",
              "50%         1.700000e+01  2.013000e+03  \n",
              "75%         2.300000e+01  2.016000e+03  \n",
              "max         2.700000e+01  2.019000e+03  "
            ],
            "text/html": [
              "\n",
              "  <div id=\"df-7e939441-843b-45df-90a3-d96ddbc68726\">\n",
              "    <div class=\"colab-df-container\">\n",
              "      <div>\n",
              "<style scoped>\n",
              "    .dataframe tbody tr th:only-of-type {\n",
              "        vertical-align: middle;\n",
              "    }\n",
              "\n",
              "    .dataframe tbody tr th {\n",
              "        vertical-align: top;\n",
              "    }\n",
              "\n",
              "    .dataframe thead th {\n",
              "        text-align: right;\n",
              "    }\n",
              "</style>\n",
              "<table border=\"1\" class=\"dataframe\">\n",
              "  <thead>\n",
              "    <tr style=\"text-align: right;\">\n",
              "      <th></th>\n",
              "      <th>time</th>\n",
              "      <th>area_id</th>\n",
              "      <th>reporting_district</th>\n",
              "      <th>age</th>\n",
              "      <th>charge_group_code</th>\n",
              "      <th>year</th>\n",
              "    </tr>\n",
              "  </thead>\n",
              "  <tbody>\n",
              "    <tr>\n",
              "      <th>count</th>\n",
              "      <td>1.139374e+06</td>\n",
              "      <td>1.139374e+06</td>\n",
              "      <td>1.139374e+06</td>\n",
              "      <td>1.139374e+06</td>\n",
              "      <td>1.139374e+06</td>\n",
              "      <td>1.139374e+06</td>\n",
              "    </tr>\n",
              "    <tr>\n",
              "      <th>mean</th>\n",
              "      <td>1.389534e+03</td>\n",
              "      <td>1.023197e+01</td>\n",
              "      <td>1.070161e+03</td>\n",
              "      <td>3.420294e+01</td>\n",
              "      <td>1.624930e+01</td>\n",
              "      <td>2.013530e+03</td>\n",
              "    </tr>\n",
              "    <tr>\n",
              "      <th>std</th>\n",
              "      <td>6.633751e+02</td>\n",
              "      <td>6.244202e+00</td>\n",
              "      <td>6.231099e+02</td>\n",
              "      <td>1.356656e+01</td>\n",
              "      <td>7.020063e+00</td>\n",
              "      <td>2.574919e+00</td>\n",
              "    </tr>\n",
              "    <tr>\n",
              "      <th>min</th>\n",
              "      <td>0.000000e+00</td>\n",
              "      <td>1.000000e+00</td>\n",
              "      <td>1.000000e+02</td>\n",
              "      <td>0.000000e+00</td>\n",
              "      <td>1.000000e+00</td>\n",
              "      <td>2.010000e+03</td>\n",
              "    </tr>\n",
              "    <tr>\n",
              "      <th>25%</th>\n",
              "      <td>9.450000e+02</td>\n",
              "      <td>5.000000e+00</td>\n",
              "      <td>5.210000e+02</td>\n",
              "      <td>2.300000e+01</td>\n",
              "      <td>1.100000e+01</td>\n",
              "      <td>2.011000e+03</td>\n",
              "    </tr>\n",
              "    <tr>\n",
              "      <th>50%</th>\n",
              "      <td>1.515000e+03</td>\n",
              "      <td>1.100000e+01</td>\n",
              "      <td>1.109000e+03</td>\n",
              "      <td>3.200000e+01</td>\n",
              "      <td>1.700000e+01</td>\n",
              "      <td>2.013000e+03</td>\n",
              "    </tr>\n",
              "    <tr>\n",
              "      <th>75%</th>\n",
              "      <td>1.930000e+03</td>\n",
              "      <td>1.500000e+01</td>\n",
              "      <td>1.553000e+03</td>\n",
              "      <td>4.500000e+01</td>\n",
              "      <td>2.300000e+01</td>\n",
              "      <td>2.016000e+03</td>\n",
              "    </tr>\n",
              "    <tr>\n",
              "      <th>max</th>\n",
              "      <td>2.400000e+03</td>\n",
              "      <td>2.100000e+01</td>\n",
              "      <td>2.199000e+03</td>\n",
              "      <td>9.600000e+01</td>\n",
              "      <td>2.700000e+01</td>\n",
              "      <td>2.019000e+03</td>\n",
              "    </tr>\n",
              "  </tbody>\n",
              "</table>\n",
              "</div>\n",
              "      <button class=\"colab-df-convert\" onclick=\"convertToInteractive('df-7e939441-843b-45df-90a3-d96ddbc68726')\"\n",
              "              title=\"Convert this dataframe to an interactive table.\"\n",
              "              style=\"display:none;\">\n",
              "        \n",
              "  <svg xmlns=\"http://www.w3.org/2000/svg\" height=\"24px\"viewBox=\"0 0 24 24\"\n",
              "       width=\"24px\">\n",
              "    <path d=\"M0 0h24v24H0V0z\" fill=\"none\"/>\n",
              "    <path d=\"M18.56 5.44l.94 2.06.94-2.06 2.06-.94-2.06-.94-.94-2.06-.94 2.06-2.06.94zm-11 1L8.5 8.5l.94-2.06 2.06-.94-2.06-.94L8.5 2.5l-.94 2.06-2.06.94zm10 10l.94 2.06.94-2.06 2.06-.94-2.06-.94-.94-2.06-.94 2.06-2.06.94z\"/><path d=\"M17.41 7.96l-1.37-1.37c-.4-.4-.92-.59-1.43-.59-.52 0-1.04.2-1.43.59L10.3 9.45l-7.72 7.72c-.78.78-.78 2.05 0 2.83L4 21.41c.39.39.9.59 1.41.59.51 0 1.02-.2 1.41-.59l7.78-7.78 2.81-2.81c.8-.78.8-2.07 0-2.86zM5.41 20L4 18.59l7.72-7.72 1.47 1.35L5.41 20z\"/>\n",
              "  </svg>\n",
              "      </button>\n",
              "      \n",
              "  <style>\n",
              "    .colab-df-container {\n",
              "      display:flex;\n",
              "      flex-wrap:wrap;\n",
              "      gap: 12px;\n",
              "    }\n",
              "\n",
              "    .colab-df-convert {\n",
              "      background-color: #E8F0FE;\n",
              "      border: none;\n",
              "      border-radius: 50%;\n",
              "      cursor: pointer;\n",
              "      display: none;\n",
              "      fill: #1967D2;\n",
              "      height: 32px;\n",
              "      padding: 0 0 0 0;\n",
              "      width: 32px;\n",
              "    }\n",
              "\n",
              "    .colab-df-convert:hover {\n",
              "      background-color: #E2EBFA;\n",
              "      box-shadow: 0px 1px 2px rgba(60, 64, 67, 0.3), 0px 1px 3px 1px rgba(60, 64, 67, 0.15);\n",
              "      fill: #174EA6;\n",
              "    }\n",
              "\n",
              "    [theme=dark] .colab-df-convert {\n",
              "      background-color: #3B4455;\n",
              "      fill: #D2E3FC;\n",
              "    }\n",
              "\n",
              "    [theme=dark] .colab-df-convert:hover {\n",
              "      background-color: #434B5C;\n",
              "      box-shadow: 0px 1px 3px 1px rgba(0, 0, 0, 0.15);\n",
              "      filter: drop-shadow(0px 1px 2px rgba(0, 0, 0, 0.3));\n",
              "      fill: #FFFFFF;\n",
              "    }\n",
              "  </style>\n",
              "\n",
              "      <script>\n",
              "        const buttonEl =\n",
              "          document.querySelector('#df-7e939441-843b-45df-90a3-d96ddbc68726 button.colab-df-convert');\n",
              "        buttonEl.style.display =\n",
              "          google.colab.kernel.accessAllowed ? 'block' : 'none';\n",
              "\n",
              "        async function convertToInteractive(key) {\n",
              "          const element = document.querySelector('#df-7e939441-843b-45df-90a3-d96ddbc68726');\n",
              "          const dataTable =\n",
              "            await google.colab.kernel.invokeFunction('convertToInteractive',\n",
              "                                                     [key], {});\n",
              "          if (!dataTable) return;\n",
              "\n",
              "          const docLinkHtml = 'Like what you see? Visit the ' +\n",
              "            '<a target=\"_blank\" href=https://colab.research.google.com/notebooks/data_table.ipynb>data table notebook</a>'\n",
              "            + ' to learn more about interactive tables.';\n",
              "          element.innerHTML = '';\n",
              "          dataTable['output_type'] = 'display_data';\n",
              "          await google.colab.output.renderOutput(dataTable, element);\n",
              "          const docLink = document.createElement('div');\n",
              "          docLink.innerHTML = docLinkHtml;\n",
              "          element.appendChild(docLink);\n",
              "        }\n",
              "      </script>\n",
              "    </div>\n",
              "  </div>\n",
              "  "
            ]
          },
          "metadata": {},
          "execution_count": 31
        }
      ]
    },
    {
      "cell_type": "markdown",
      "source": [
        "### Data Preprocessing"
      ],
      "metadata": {
        "id": "SgQkVJJYAysU"
      }
    },
    {
      "cell_type": "markdown",
      "source": [
        "Arrest date, Time, Area Id, Age are labeled as object/string data types instead of datetime, time, integers. I'll perform type-casting on the column to convert them."
      ],
      "metadata": {
        "id": "4yYTwFt9DPpX"
      }
    },
    {
      "cell_type": "code",
      "source": [
        "arrest_df.shape\n"
      ],
      "metadata": {
        "id": "f-CDevskFDz8",
        "colab": {
          "base_uri": "https://localhost:8080/"
        },
        "outputId": "0b683a5f-27d5-4aa7-85c8-f0485d24fd2d"
      },
      "execution_count": 32,
      "outputs": [
        {
          "output_type": "execute_result",
          "data": {
            "text/plain": [
              "(1139374, 17)"
            ]
          },
          "metadata": {},
          "execution_count": 32
        }
      ]
    },
    {
      "cell_type": "code",
      "source": [
        "# renaming column names\n",
        "arrest_df.columns = arrest_df.columns.str.lower()\n",
        "arrest_df.columns = arrest_df.columns.str.replace(' ','_')\n",
        "arrest_df.columns"
      ],
      "metadata": {
        "id": "Y3iwTGP3CkjP",
        "colab": {
          "base_uri": "https://localhost:8080/"
        },
        "outputId": "ec99f7f9-200f-4669-aa6e-d24931ce3abd"
      },
      "execution_count": 3,
      "outputs": [
        {
          "output_type": "execute_result",
          "data": {
            "text/plain": [
              "Index(['report_id', 'arrest_date', 'time', 'area_id', 'area_name',\n",
              "       'reporting_district', 'age', 'sex_code', 'descent_code',\n",
              "       'charge_group_code', 'charge_group_description', 'arrest_type_code',\n",
              "       'charge', 'charge_description', 'address', 'cross_street', 'location'],\n",
              "      dtype='object')"
            ]
          },
          "metadata": {},
          "execution_count": 3
        }
      ]
    },
    {
      "cell_type": "code",
      "source": [
        "# converting arrest_date to datetime data type\n",
        "arrest_df['arrest_date'] = pd.to_datetime(arrest_df['arrest_date'])\n",
        "arrest_df['arrest_date'].dtype\n"
      ],
      "metadata": {
        "id": "iIVYqh3KFqlY",
        "colab": {
          "base_uri": "https://localhost:8080/"
        },
        "outputId": "dd09006a-4cbd-4bc3-ed7d-aca4b4c47b6c"
      },
      "execution_count": 4,
      "outputs": [
        {
          "output_type": "execute_result",
          "data": {
            "text/plain": [
              "dtype('<M8[ns]')"
            ]
          },
          "metadata": {},
          "execution_count": 4
        }
      ]
    },
    {
      "cell_type": "markdown",
      "source": [
        "#### Handling Missing Values"
      ],
      "metadata": {
        "id": "r5uTvWi_LDSb"
      }
    },
    {
      "cell_type": "code",
      "source": [
        "missing=arrest_df.isna().sum()\n",
        "missing.sort_values(ascending=False)"
      ],
      "metadata": {
        "id": "2V8RBXNHPwV0",
        "colab": {
          "base_uri": "https://localhost:8080/"
        },
        "outputId": "4a5a2378-159c-431c-bdb4-a422201175fc"
      },
      "execution_count": 5,
      "outputs": [
        {
          "output_type": "execute_result",
          "data": {
            "text/plain": [
              "cross_street                520187\n",
              "charge_group_description     88006\n",
              "charge_group_code            87570\n",
              "charge_description           87534\n",
              "time                           199\n",
              "location                         5\n",
              "address                          5\n",
              "charge                           5\n",
              "arrest_type_code                 5\n",
              "descent_code                     4\n",
              "arrest_date                      4\n",
              "sex_code                         4\n",
              "age                              4\n",
              "reporting_district               4\n",
              "area_name                        4\n",
              "area_id                          4\n",
              "report_id                        0\n",
              "dtype: int64"
            ]
          },
          "metadata": {},
          "execution_count": 5
        }
      ]
    },
    {
      "cell_type": "code",
      "source": [
        "\n",
        "missing=arrest_df.isna().sum()\n",
        "miss_perct = missing/len(arrest_df)*100\n",
        "miss_perct.sort_values(ascending=False)\n",
        "# plt.plot(miss_sorted)"
      ],
      "metadata": {
        "id": "0wTcDl-RkisI",
        "colab": {
          "base_uri": "https://localhost:8080/"
        },
        "outputId": "c78ac904-d636-4db7-c32f-ef99d00dc762"
      },
      "execution_count": 6,
      "outputs": [
        {
          "output_type": "execute_result",
          "data": {
            "text/plain": [
              "cross_street                42.377035\n",
              "charge_group_description     7.169409\n",
              "charge_group_code            7.133890\n",
              "charge_description           7.130957\n",
              "time                         0.016212\n",
              "location                     0.000407\n",
              "address                      0.000407\n",
              "charge                       0.000407\n",
              "arrest_type_code             0.000407\n",
              "descent_code                 0.000326\n",
              "arrest_date                  0.000326\n",
              "sex_code                     0.000326\n",
              "age                          0.000326\n",
              "reporting_district           0.000326\n",
              "area_name                    0.000326\n",
              "area_id                      0.000326\n",
              "report_id                    0.000000\n",
              "dtype: float64"
            ]
          },
          "metadata": {},
          "execution_count": 6
        }
      ]
    },
    {
      "cell_type": "markdown",
      "source": [
        "Cross Street has alot of missing values, 42.34%. It can therefore be dropped entirely as it is less informative/important"
      ],
      "metadata": {
        "id": "51xa2WFHLTgK"
      }
    },
    {
      "cell_type": "code",
      "source": [
        "arrest_df.drop('cross_street', axis=1, inplace=True)\n",
        "arrest_df.columns"
      ],
      "metadata": {
        "id": "kx2t7r48kiuk",
        "colab": {
          "base_uri": "https://localhost:8080/"
        },
        "outputId": "137f4d85-fe93-4b41-c7a3-282f1601b9a4"
      },
      "execution_count": 7,
      "outputs": [
        {
          "output_type": "execute_result",
          "data": {
            "text/plain": [
              "Index(['report_id', 'arrest_date', 'time', 'area_id', 'area_name',\n",
              "       'reporting_district', 'age', 'sex_code', 'descent_code',\n",
              "       'charge_group_code', 'charge_group_description', 'arrest_type_code',\n",
              "       'charge', 'charge_description', 'address', 'location'],\n",
              "      dtype='object')"
            ]
          },
          "metadata": {},
          "execution_count": 7
        }
      ]
    },
    {
      "cell_type": "code",
      "source": [
        "# dropping missing values\n",
        "arrest_df.dropna(inplace=True)"
      ],
      "metadata": {
        "id": "PS3TwDN8kiwX"
      },
      "execution_count": 8,
      "outputs": []
    },
    {
      "cell_type": "code",
      "source": [
        "# confirming all missing values are dropped \n",
        "arrest_df.isna().any()"
      ],
      "metadata": {
        "id": "7gU8ToFdkixx",
        "colab": {
          "base_uri": "https://localhost:8080/"
        },
        "outputId": "556b4ddb-81e3-4ab8-8dd4-f7eb7eb70c15"
      },
      "execution_count": 9,
      "outputs": [
        {
          "output_type": "execute_result",
          "data": {
            "text/plain": [
              "report_id                   False\n",
              "arrest_date                 False\n",
              "time                        False\n",
              "area_id                     False\n",
              "area_name                   False\n",
              "reporting_district          False\n",
              "age                         False\n",
              "sex_code                    False\n",
              "descent_code                False\n",
              "charge_group_code           False\n",
              "charge_group_description    False\n",
              "arrest_type_code            False\n",
              "charge                      False\n",
              "charge_description          False\n",
              "address                     False\n",
              "location                    False\n",
              "dtype: bool"
            ]
          },
          "metadata": {},
          "execution_count": 9
        }
      ]
    },
    {
      "cell_type": "code",
      "source": [
        "arrest_df['year'] = pd.DatetimeIndex(arrest_df['arrest_date']).year\n",
        "print(f'Unique years: {arrest_df[\"year\"].unique()}')\n",
        "print(arrest_df['year'].head())\n"
      ],
      "metadata": {
        "id": "9VcqvZm1ki0y",
        "colab": {
          "base_uri": "https://localhost:8080/"
        },
        "outputId": "c2d0b738-3f08-4816-fbcb-2b6a98e66303"
      },
      "execution_count": 10,
      "outputs": [
        {
          "output_type": "stream",
          "name": "stdout",
          "text": [
            "Unique years: [2015 2019 2016 2017 2018 2012 2014 2010 2011 2013]\n",
            "0    2015\n",
            "2    2015\n",
            "3    2019\n",
            "4    2019\n",
            "6    2015\n",
            "Name: year, dtype: int64\n"
          ]
        }
      ]
    },
    {
      "cell_type": "markdown",
      "source": [
        "Quiz1: How many bookings of arrestees were made in 2018?\n",
        "> From the results below, there are *30328* arrestee bookings in 2018"
      ],
      "metadata": {
        "id": "4LXxXaw6U_4D"
      }
    },
    {
      "cell_type": "code",
      "source": [
        "df_2018 = arrest_df[arrest_df['year']==2018]\n",
        "df_2018['year'].value_counts()"
      ],
      "metadata": {
        "id": "2W5skXrAki26",
        "colab": {
          "base_uri": "https://localhost:8080/"
        },
        "outputId": "ca8a54d2-dbc2-46fc-af50-d47a72cf16f4"
      },
      "execution_count": 14,
      "outputs": [
        {
          "output_type": "execute_result",
          "data": {
            "text/plain": [
              "2018    30328\n",
              "Name: year, dtype: int64"
            ]
          },
          "metadata": {},
          "execution_count": 14
        }
      ]
    },
    {
      "cell_type": "markdown",
      "source": [
        "2. How many bookings of arrestees were made in each area and which area has the most arrests in 2018?[5]</br>\n",
        "> **Central Area** has the most arrests of **5011** in 2018 </br></br>\n",
        "The Areas performed as follows with Central having the highest number of arrestees:\n",
        "\n",
        "       Central          5011\n",
        "       Hollywood        2798\n",
        "       Rampart          1935\n",
        "       Pacific          1699\n",
        "       Van Nuys         1530\n",
        "       Newton           1490\n",
        "       Southwest        1424\n",
        "       Harbor           1354\n",
        "       77th Street      1303\n",
        "       Northeast        1299\n",
        "       Olympic          1249\n",
        "       Mission          1243\n",
        "       West LA          1190\n",
        "       Devonshire       1185\n",
        "       N Hollywood      1136\n",
        "       Topanga          1035\n",
        "       West Valley       832\n",
        "       Southeast         708\n",
        "       Hollenbeck        675\n",
        "       Foothill          660\n",
        "       Wilshire          572 "
      ],
      "metadata": {
        "id": "X_N_DORnXNUm"
      }
    },
    {
      "cell_type": "code",
      "source": [
        "# creating a dataframe with only 2018 data\n",
        "df_2018 = arrest_df[(arrest_df['year']==2018)] \n",
        "# grouping df2 by year against area name and sorting in ascending\n",
        "df_2018.groupby('year').area_name.value_counts().sort_values(ascending=False)"
      ],
      "metadata": {
        "id": "FxGqWabkki6c",
        "colab": {
          "base_uri": "https://localhost:8080/"
        },
        "outputId": "89290da0-86dd-44ba-b24d-ff8b6d353d7e"
      },
      "execution_count": 19,
      "outputs": [
        {
          "output_type": "execute_result",
          "data": {
            "text/plain": [
              "year  area_name  \n",
              "2018  Central        5011\n",
              "      Hollywood      2798\n",
              "      Rampart        1935\n",
              "      Pacific        1699\n",
              "      Van Nuys       1530\n",
              "      Newton         1490\n",
              "      Southwest      1424\n",
              "      Harbor         1354\n",
              "      77th Street    1303\n",
              "      Northeast      1299\n",
              "      Olympic        1249\n",
              "      Mission        1243\n",
              "      West LA        1190\n",
              "      Devonshire     1185\n",
              "      N Hollywood    1136\n",
              "      Topanga        1035\n",
              "      West Valley     832\n",
              "      Southeast       708\n",
              "      Hollenbeck      675\n",
              "      Foothill        660\n",
              "      Wilshire        572\n",
              "Name: area_name, dtype: int64"
            ]
          },
          "metadata": {},
          "execution_count": 19
        }
      ]
    },
    {
      "cell_type": "markdown",
      "source": [
        "3. There are differences between the average age of an arrestee for the various charge groups. Find the average age of arrestees per each charge group.Only consider data for 2018. Do not consider \"Pre-Delinquency\" and \"Non-Criminal Detention\" as these charge groups are reserved for minors Exclude any arrests where the charge group description is not known [5] "
      ],
      "metadata": {
        "id": "6YBfyb2NbKXT"
      }
    },
    {
      "cell_type": "markdown",
      "source": [
        "Missing values were already dropped thus 'not known' is not in the dataframe."
      ],
      "metadata": {
        "id": "0FocgcsZbKa9"
      }
    },
    {
      "cell_type": "code",
      "source": [
        "# creating dataframe without \"Pre-Delinquency\" and \"Non-Criminal Detention\" in 2018\n",
        "df3=arrest_df[(arrest_df['year']==2018) &\n",
        "              (arrest_df['charge_group_description']!='Non-Criminal Detention') &\n",
        "              (arrest_df['charge_group_description']!='Pre-Delinquency')]\n",
        "# grouping df3 by year & 'charge_group_description' against mean age\n",
        "df3.groupby(['year','charge_group_description']).age.mean()\n"
      ],
      "metadata": {
        "id": "mCLuSBGfki9E",
        "colab": {
          "base_uri": "https://localhost:8080/"
        },
        "outputId": "98bb9c01-dd46-4a0d-91dc-59ab2825c9d9"
      },
      "execution_count": null,
      "outputs": [
        {
          "output_type": "execute_result",
          "data": {
            "text/plain": [
              "year  charge_group_description      \n",
              "2018  Against Family/Child              36.950355\n",
              "      Aggravated Assault                33.907359\n",
              "      Burglary                          30.366755\n",
              "      Disorderly Conduct                41.924290\n",
              "      Disturbing the Peace              39.727273\n",
              "      Driving Under Influence           34.428291\n",
              "      Drunkeness                        44.219972\n",
              "      Federal Offenses                  34.600000\n",
              "      Forgery/Counterfeit               35.066667\n",
              "      Fraud/Embezzlement                35.689076\n",
              "      Gambling                          40.557047\n",
              "      Homicide                          30.896552\n",
              "      Larceny                           32.721717\n",
              "      Liquor Laws                       42.543585\n",
              "      Miscellaneous Other Violations    36.252076\n",
              "      Moving Traffic Violations         33.085622\n",
              "      Narcotic Drug Laws                36.097954\n",
              "      Other Assaults                    33.451139\n",
              "      Prostitution/Allied               31.610687\n",
              "      Rape                              36.203704\n",
              "      Receive Stolen Property           33.687500\n",
              "      Robbery                           27.538739\n",
              "      Sex (except rape/prst)            36.555838\n",
              "      Vehicle Theft                     30.095624\n",
              "      Weapon (carry/poss)               29.477178\n",
              "Name: age, dtype: float64"
            ]
          },
          "metadata": {},
          "execution_count": 16
        }
      ]
    },
    {
      "cell_type": "code",
      "source": [
        "df_2018=arrest_df[(arrest_df['year']==2018)]\n",
        "df_2018.groupby('year').area_name.value_counts()"
      ],
      "metadata": {
        "id": "WXcaGWxJa8VP",
        "colab": {
          "base_uri": "https://localhost:8080/"
        },
        "outputId": "697fc48a-da31-449b-8350-a3adb6527da4"
      },
      "execution_count": 20,
      "outputs": [
        {
          "output_type": "execute_result",
          "data": {
            "text/plain": [
              "year  area_name  \n",
              "2018  Central        5011\n",
              "      Hollywood      2798\n",
              "      Rampart        1935\n",
              "      Pacific        1699\n",
              "      Van Nuys       1530\n",
              "      Newton         1490\n",
              "      Southwest      1424\n",
              "      Harbor         1354\n",
              "      77th Street    1303\n",
              "      Northeast      1299\n",
              "      Olympic        1249\n",
              "      Mission        1243\n",
              "      West LA        1190\n",
              "      Devonshire     1185\n",
              "      N Hollywood    1136\n",
              "      Topanga        1035\n",
              "      West Valley     832\n",
              "      Southeast       708\n",
              "      Hollenbeck      675\n",
              "      Foothill        660\n",
              "      Wilshire        572\n",
              "Name: area_name, dtype: int64"
            ]
          },
          "metadata": {},
          "execution_count": 20
        }
      ]
    },
    {
      "cell_type": "markdown",
      "source": [
        "4. What is the 95% quantile of the age of the arrestee in 2018? Only consider the following charge groups for your analysis: Vehicle Theft Robbery Burglary Receive Stolen Property [5]\n",
        "\n",
        "> Answer: **The 95% quantile of the age is 52 years**"
      ],
      "metadata": {
        "id": "Suamg6nYgAMT"
      }
    },
    {
      "cell_type": "code",
      "source": [
        "arrest_df[:2]"
      ],
      "metadata": {
        "id": "IzvsJbULf_cd",
        "colab": {
          "base_uri": "https://localhost:8080/",
          "height": 246
        },
        "outputId": "f2f7be41-2ccd-41b3-8ad4-64f357457c66"
      },
      "execution_count": null,
      "outputs": [
        {
          "output_type": "execute_result",
          "data": {
            "text/plain": [
              "  report_id arrest_date    time  area_id area_name  reporting_district   age  \\\n",
              "0   4248313  02/24/2015  1310.0     20.0   Olympic              2022.0  37.0   \n",
              "2   4254777  02/26/2015  2010.0     19.0   Mission              1985.0  22.0   \n",
              "\n",
              "  sex_code descent_code  charge_group_code charge_group_description  \\\n",
              "0        M            H                5.0                 Burglary   \n",
              "2        M            H                6.0                  Larceny   \n",
              "\n",
              "  arrest_type_code   charge charge_description  \\\n",
              "0                F    459PC           BURGLARY   \n",
              "2                M  459.5PC        SHOPLIFTING   \n",
              "\n",
              "                                   address              location  year  \n",
              "0                                      5TH   (34.0653, -118.314)  2015  \n",
              "2  8300    VAN NUYS                     BL  (34.2216, -118.4488)  2015  "
            ],
            "text/html": [
              "\n",
              "  <div id=\"df-2c247360-9116-4186-9488-230e4e3978bc\">\n",
              "    <div class=\"colab-df-container\">\n",
              "      <div>\n",
              "<style scoped>\n",
              "    .dataframe tbody tr th:only-of-type {\n",
              "        vertical-align: middle;\n",
              "    }\n",
              "\n",
              "    .dataframe tbody tr th {\n",
              "        vertical-align: top;\n",
              "    }\n",
              "\n",
              "    .dataframe thead th {\n",
              "        text-align: right;\n",
              "    }\n",
              "</style>\n",
              "<table border=\"1\" class=\"dataframe\">\n",
              "  <thead>\n",
              "    <tr style=\"text-align: right;\">\n",
              "      <th></th>\n",
              "      <th>report_id</th>\n",
              "      <th>arrest_date</th>\n",
              "      <th>time</th>\n",
              "      <th>area_id</th>\n",
              "      <th>area_name</th>\n",
              "      <th>reporting_district</th>\n",
              "      <th>age</th>\n",
              "      <th>sex_code</th>\n",
              "      <th>descent_code</th>\n",
              "      <th>charge_group_code</th>\n",
              "      <th>charge_group_description</th>\n",
              "      <th>arrest_type_code</th>\n",
              "      <th>charge</th>\n",
              "      <th>charge_description</th>\n",
              "      <th>address</th>\n",
              "      <th>location</th>\n",
              "      <th>year</th>\n",
              "    </tr>\n",
              "  </thead>\n",
              "  <tbody>\n",
              "    <tr>\n",
              "      <th>0</th>\n",
              "      <td>4248313</td>\n",
              "      <td>02/24/2015</td>\n",
              "      <td>1310.0</td>\n",
              "      <td>20.0</td>\n",
              "      <td>Olympic</td>\n",
              "      <td>2022.0</td>\n",
              "      <td>37.0</td>\n",
              "      <td>M</td>\n",
              "      <td>H</td>\n",
              "      <td>5.0</td>\n",
              "      <td>Burglary</td>\n",
              "      <td>F</td>\n",
              "      <td>459PC</td>\n",
              "      <td>BURGLARY</td>\n",
              "      <td>5TH</td>\n",
              "      <td>(34.0653, -118.314)</td>\n",
              "      <td>2015</td>\n",
              "    </tr>\n",
              "    <tr>\n",
              "      <th>2</th>\n",
              "      <td>4254777</td>\n",
              "      <td>02/26/2015</td>\n",
              "      <td>2010.0</td>\n",
              "      <td>19.0</td>\n",
              "      <td>Mission</td>\n",
              "      <td>1985.0</td>\n",
              "      <td>22.0</td>\n",
              "      <td>M</td>\n",
              "      <td>H</td>\n",
              "      <td>6.0</td>\n",
              "      <td>Larceny</td>\n",
              "      <td>M</td>\n",
              "      <td>459.5PC</td>\n",
              "      <td>SHOPLIFTING</td>\n",
              "      <td>8300    VAN NUYS                     BL</td>\n",
              "      <td>(34.2216, -118.4488)</td>\n",
              "      <td>2015</td>\n",
              "    </tr>\n",
              "  </tbody>\n",
              "</table>\n",
              "</div>\n",
              "      <button class=\"colab-df-convert\" onclick=\"convertToInteractive('df-2c247360-9116-4186-9488-230e4e3978bc')\"\n",
              "              title=\"Convert this dataframe to an interactive table.\"\n",
              "              style=\"display:none;\">\n",
              "        \n",
              "  <svg xmlns=\"http://www.w3.org/2000/svg\" height=\"24px\"viewBox=\"0 0 24 24\"\n",
              "       width=\"24px\">\n",
              "    <path d=\"M0 0h24v24H0V0z\" fill=\"none\"/>\n",
              "    <path d=\"M18.56 5.44l.94 2.06.94-2.06 2.06-.94-2.06-.94-.94-2.06-.94 2.06-2.06.94zm-11 1L8.5 8.5l.94-2.06 2.06-.94-2.06-.94L8.5 2.5l-.94 2.06-2.06.94zm10 10l.94 2.06.94-2.06 2.06-.94-2.06-.94-.94-2.06-.94 2.06-2.06.94z\"/><path d=\"M17.41 7.96l-1.37-1.37c-.4-.4-.92-.59-1.43-.59-.52 0-1.04.2-1.43.59L10.3 9.45l-7.72 7.72c-.78.78-.78 2.05 0 2.83L4 21.41c.39.39.9.59 1.41.59.51 0 1.02-.2 1.41-.59l7.78-7.78 2.81-2.81c.8-.78.8-2.07 0-2.86zM5.41 20L4 18.59l7.72-7.72 1.47 1.35L5.41 20z\"/>\n",
              "  </svg>\n",
              "      </button>\n",
              "      \n",
              "  <style>\n",
              "    .colab-df-container {\n",
              "      display:flex;\n",
              "      flex-wrap:wrap;\n",
              "      gap: 12px;\n",
              "    }\n",
              "\n",
              "    .colab-df-convert {\n",
              "      background-color: #E8F0FE;\n",
              "      border: none;\n",
              "      border-radius: 50%;\n",
              "      cursor: pointer;\n",
              "      display: none;\n",
              "      fill: #1967D2;\n",
              "      height: 32px;\n",
              "      padding: 0 0 0 0;\n",
              "      width: 32px;\n",
              "    }\n",
              "\n",
              "    .colab-df-convert:hover {\n",
              "      background-color: #E2EBFA;\n",
              "      box-shadow: 0px 1px 2px rgba(60, 64, 67, 0.3), 0px 1px 3px 1px rgba(60, 64, 67, 0.15);\n",
              "      fill: #174EA6;\n",
              "    }\n",
              "\n",
              "    [theme=dark] .colab-df-convert {\n",
              "      background-color: #3B4455;\n",
              "      fill: #D2E3FC;\n",
              "    }\n",
              "\n",
              "    [theme=dark] .colab-df-convert:hover {\n",
              "      background-color: #434B5C;\n",
              "      box-shadow: 0px 1px 3px 1px rgba(0, 0, 0, 0.15);\n",
              "      filter: drop-shadow(0px 1px 2px rgba(0, 0, 0, 0.3));\n",
              "      fill: #FFFFFF;\n",
              "    }\n",
              "  </style>\n",
              "\n",
              "      <script>\n",
              "        const buttonEl =\n",
              "          document.querySelector('#df-2c247360-9116-4186-9488-230e4e3978bc button.colab-df-convert');\n",
              "        buttonEl.style.display =\n",
              "          google.colab.kernel.accessAllowed ? 'block' : 'none';\n",
              "\n",
              "        async function convertToInteractive(key) {\n",
              "          const element = document.querySelector('#df-2c247360-9116-4186-9488-230e4e3978bc');\n",
              "          const dataTable =\n",
              "            await google.colab.kernel.invokeFunction('convertToInteractive',\n",
              "                                                     [key], {});\n",
              "          if (!dataTable) return;\n",
              "\n",
              "          const docLinkHtml = 'Like what you see? Visit the ' +\n",
              "            '<a target=\"_blank\" href=https://colab.research.google.com/notebooks/data_table.ipynb>data table notebook</a>'\n",
              "            + ' to learn more about interactive tables.';\n",
              "          element.innerHTML = '';\n",
              "          dataTable['output_type'] = 'display_data';\n",
              "          await google.colab.output.renderOutput(dataTable, element);\n",
              "          const docLink = document.createElement('div');\n",
              "          docLink.innerHTML = docLinkHtml;\n",
              "          element.appendChild(docLink);\n",
              "        }\n",
              "      </script>\n",
              "    </div>\n",
              "  </div>\n",
              "  "
            ]
          },
          "metadata": {},
          "execution_count": 18
        }
      ]
    },
    {
      "cell_type": "code",
      "source": [
        "arrest_df['charge_group_description'].unique()"
      ],
      "metadata": {
        "id": "hD3hP68pg_Az",
        "colab": {
          "base_uri": "https://localhost:8080/"
        },
        "outputId": "5f161e3a-0ca9-4fe0-a109-27fdad19365c"
      },
      "execution_count": null,
      "outputs": [
        {
          "output_type": "execute_result",
          "data": {
            "text/plain": [
              "array(['Burglary', 'Larceny', 'Robbery', 'Other Assaults',\n",
              "       'Miscellaneous Other Violations', 'Drunkeness', 'Liquor Laws',\n",
              "       'Narcotic Drug Laws', 'Disorderly Conduct', 'Prostitution/Allied',\n",
              "       'Disturbing the Peace', 'Driving Under Influence', 'Gambling',\n",
              "       'Sex (except rape/prst)', 'Fraud/Embezzlement',\n",
              "       'Receive Stolen Property', 'Homicide', 'Weapon (carry/poss)',\n",
              "       'Aggravated Assault', 'Vehicle Theft', 'Against Family/Child',\n",
              "       'Forgery/Counterfeit', 'Moving Traffic Violations',\n",
              "       'Non-Criminal Detention', 'Rape', 'Federal Offenses',\n",
              "       'Pre-Delinquency'], dtype=object)"
            ]
          },
          "metadata": {},
          "execution_count": 19
        }
      ]
    },
    {
      "cell_type": "code",
      "source": [
        "# df2 was already filtered to 2018, we can filter it further to meet the conditions in order to asnwer quiz4\n",
        "df4=df_2018[(df_2018['charge_group_description']=='Robbery') |\n",
        "              (df_2018['charge_group_description']=='Burglary') |\n",
        "              (df_2018['charge_group_description']=='Vehicle Theft') |\n",
        "              (df_2018['charge_group_description']=='Receive Stolen Property') \n",
        "              ]\n"
      ],
      "metadata": {
        "id": "xQTpwecGkjD-"
      },
      "execution_count": 21,
      "outputs": []
    },
    {
      "cell_type": "code",
      "source": [
        "# confirming that we have met all the conditions\n",
        "print(df4['charge_group_description'].unique()) # filter 4 charge group descriptions \n",
        "print(df4['year'].unique()) # filtered to 2018 only"
      ],
      "metadata": {
        "id": "I2OEDzlkiVCf",
        "colab": {
          "base_uri": "https://localhost:8080/"
        },
        "outputId": "79e85c3f-29cf-4dd3-c06a-f2ea563255d3"
      },
      "execution_count": 22,
      "outputs": [
        {
          "output_type": "stream",
          "name": "stdout",
          "text": [
            "['Vehicle Theft' 'Robbery' 'Burglary' 'Receive Stolen Property']\n",
            "[2018]\n"
          ]
        }
      ]
    },
    {
      "cell_type": "code",
      "source": [
        "# calculating the 95% age quantile\n",
        "df4['age'].quantile(0.95)"
      ],
      "metadata": {
        "id": "MQpE_szVkjFy",
        "colab": {
          "base_uri": "https://localhost:8080/"
        },
        "outputId": "dc1e20c8-e3b3-4cb5-df33-cce04e52cdb5"
      },
      "execution_count": 23,
      "outputs": [
        {
          "output_type": "execute_result",
          "data": {
            "text/plain": [
              "52.0"
            ]
          },
          "metadata": {},
          "execution_count": 23
        }
      ]
    },
    {
      "cell_type": "markdown",
      "source": [
        "5. Crime arrest incidents have been dropping over the years. Using a linear regression for the data from 2010 and 2018 (inclusive), predict number of crime arrests in 2019? Round to the nearest integer. Note, the data set includes arrests for misdemeanor, felonies, etc. [5]"
      ],
      "metadata": {
        "id": "NzVklPOElAaG"
      }
    },
    {
      "cell_type": "code",
      "source": [
        "# getting number of cases in each year and creating a dataframe of year and cases\n",
        "arrest_df.year.value_counts().rename_axis('year').reset_index(name='counts')"
      ],
      "metadata": {
        "colab": {
          "base_uri": "https://localhost:8080/",
          "height": 363
        },
        "id": "PYvHFn53pBIO",
        "outputId": "204b94d1-845b-4f7d-dc5f-144fafe42b5d"
      },
      "execution_count": 24,
      "outputs": [
        {
          "output_type": "execute_result",
          "data": {
            "text/plain": [
              "   year  counts\n",
              "0  2010  156536\n",
              "1  2012  154120\n",
              "2  2011  152340\n",
              "3  2013  144266\n",
              "4  2014  128722\n",
              "5  2015  115619\n",
              "6  2016  108825\n",
              "7  2017   98864\n",
              "8  2019   49754\n",
              "9  2018   30328"
            ],
            "text/html": [
              "\n",
              "  <div id=\"df-04f1e703-f7bb-4280-ac12-537b3bc7fd50\">\n",
              "    <div class=\"colab-df-container\">\n",
              "      <div>\n",
              "<style scoped>\n",
              "    .dataframe tbody tr th:only-of-type {\n",
              "        vertical-align: middle;\n",
              "    }\n",
              "\n",
              "    .dataframe tbody tr th {\n",
              "        vertical-align: top;\n",
              "    }\n",
              "\n",
              "    .dataframe thead th {\n",
              "        text-align: right;\n",
              "    }\n",
              "</style>\n",
              "<table border=\"1\" class=\"dataframe\">\n",
              "  <thead>\n",
              "    <tr style=\"text-align: right;\">\n",
              "      <th></th>\n",
              "      <th>year</th>\n",
              "      <th>counts</th>\n",
              "    </tr>\n",
              "  </thead>\n",
              "  <tbody>\n",
              "    <tr>\n",
              "      <th>0</th>\n",
              "      <td>2010</td>\n",
              "      <td>156536</td>\n",
              "    </tr>\n",
              "    <tr>\n",
              "      <th>1</th>\n",
              "      <td>2012</td>\n",
              "      <td>154120</td>\n",
              "    </tr>\n",
              "    <tr>\n",
              "      <th>2</th>\n",
              "      <td>2011</td>\n",
              "      <td>152340</td>\n",
              "    </tr>\n",
              "    <tr>\n",
              "      <th>3</th>\n",
              "      <td>2013</td>\n",
              "      <td>144266</td>\n",
              "    </tr>\n",
              "    <tr>\n",
              "      <th>4</th>\n",
              "      <td>2014</td>\n",
              "      <td>128722</td>\n",
              "    </tr>\n",
              "    <tr>\n",
              "      <th>5</th>\n",
              "      <td>2015</td>\n",
              "      <td>115619</td>\n",
              "    </tr>\n",
              "    <tr>\n",
              "      <th>6</th>\n",
              "      <td>2016</td>\n",
              "      <td>108825</td>\n",
              "    </tr>\n",
              "    <tr>\n",
              "      <th>7</th>\n",
              "      <td>2017</td>\n",
              "      <td>98864</td>\n",
              "    </tr>\n",
              "    <tr>\n",
              "      <th>8</th>\n",
              "      <td>2019</td>\n",
              "      <td>49754</td>\n",
              "    </tr>\n",
              "    <tr>\n",
              "      <th>9</th>\n",
              "      <td>2018</td>\n",
              "      <td>30328</td>\n",
              "    </tr>\n",
              "  </tbody>\n",
              "</table>\n",
              "</div>\n",
              "      <button class=\"colab-df-convert\" onclick=\"convertToInteractive('df-04f1e703-f7bb-4280-ac12-537b3bc7fd50')\"\n",
              "              title=\"Convert this dataframe to an interactive table.\"\n",
              "              style=\"display:none;\">\n",
              "        \n",
              "  <svg xmlns=\"http://www.w3.org/2000/svg\" height=\"24px\"viewBox=\"0 0 24 24\"\n",
              "       width=\"24px\">\n",
              "    <path d=\"M0 0h24v24H0V0z\" fill=\"none\"/>\n",
              "    <path d=\"M18.56 5.44l.94 2.06.94-2.06 2.06-.94-2.06-.94-.94-2.06-.94 2.06-2.06.94zm-11 1L8.5 8.5l.94-2.06 2.06-.94-2.06-.94L8.5 2.5l-.94 2.06-2.06.94zm10 10l.94 2.06.94-2.06 2.06-.94-2.06-.94-.94-2.06-.94 2.06-2.06.94z\"/><path d=\"M17.41 7.96l-1.37-1.37c-.4-.4-.92-.59-1.43-.59-.52 0-1.04.2-1.43.59L10.3 9.45l-7.72 7.72c-.78.78-.78 2.05 0 2.83L4 21.41c.39.39.9.59 1.41.59.51 0 1.02-.2 1.41-.59l7.78-7.78 2.81-2.81c.8-.78.8-2.07 0-2.86zM5.41 20L4 18.59l7.72-7.72 1.47 1.35L5.41 20z\"/>\n",
              "  </svg>\n",
              "      </button>\n",
              "      \n",
              "  <style>\n",
              "    .colab-df-container {\n",
              "      display:flex;\n",
              "      flex-wrap:wrap;\n",
              "      gap: 12px;\n",
              "    }\n",
              "\n",
              "    .colab-df-convert {\n",
              "      background-color: #E8F0FE;\n",
              "      border: none;\n",
              "      border-radius: 50%;\n",
              "      cursor: pointer;\n",
              "      display: none;\n",
              "      fill: #1967D2;\n",
              "      height: 32px;\n",
              "      padding: 0 0 0 0;\n",
              "      width: 32px;\n",
              "    }\n",
              "\n",
              "    .colab-df-convert:hover {\n",
              "      background-color: #E2EBFA;\n",
              "      box-shadow: 0px 1px 2px rgba(60, 64, 67, 0.3), 0px 1px 3px 1px rgba(60, 64, 67, 0.15);\n",
              "      fill: #174EA6;\n",
              "    }\n",
              "\n",
              "    [theme=dark] .colab-df-convert {\n",
              "      background-color: #3B4455;\n",
              "      fill: #D2E3FC;\n",
              "    }\n",
              "\n",
              "    [theme=dark] .colab-df-convert:hover {\n",
              "      background-color: #434B5C;\n",
              "      box-shadow: 0px 1px 3px 1px rgba(0, 0, 0, 0.15);\n",
              "      filter: drop-shadow(0px 1px 2px rgba(0, 0, 0, 0.3));\n",
              "      fill: #FFFFFF;\n",
              "    }\n",
              "  </style>\n",
              "\n",
              "      <script>\n",
              "        const buttonEl =\n",
              "          document.querySelector('#df-04f1e703-f7bb-4280-ac12-537b3bc7fd50 button.colab-df-convert');\n",
              "        buttonEl.style.display =\n",
              "          google.colab.kernel.accessAllowed ? 'block' : 'none';\n",
              "\n",
              "        async function convertToInteractive(key) {\n",
              "          const element = document.querySelector('#df-04f1e703-f7bb-4280-ac12-537b3bc7fd50');\n",
              "          const dataTable =\n",
              "            await google.colab.kernel.invokeFunction('convertToInteractive',\n",
              "                                                     [key], {});\n",
              "          if (!dataTable) return;\n",
              "\n",
              "          const docLinkHtml = 'Like what you see? Visit the ' +\n",
              "            '<a target=\"_blank\" href=https://colab.research.google.com/notebooks/data_table.ipynb>data table notebook</a>'\n",
              "            + ' to learn more about interactive tables.';\n",
              "          element.innerHTML = '';\n",
              "          dataTable['output_type'] = 'display_data';\n",
              "          await google.colab.output.renderOutput(dataTable, element);\n",
              "          const docLink = document.createElement('div');\n",
              "          docLink.innerHTML = docLinkHtml;\n",
              "          element.appendChild(docLink);\n",
              "        }\n",
              "      </script>\n",
              "    </div>\n",
              "  </div>\n",
              "  "
            ]
          },
          "metadata": {},
          "execution_count": 24
        }
      ]
    },
    {
      "cell_type": "code",
      "source": [
        "#creating a dataframe from the total number of crimes committed in each year\n",
        "count_df = arrest_df.year.value_counts().rename_axis('year').reset_index(name='counts')\n",
        "\n",
        "# excluding 2019 from the new dataset\n",
        "count_df = count_df[count_df['year']!=2019]\n",
        "count_df"
      ],
      "metadata": {
        "id": "m5aJX0rUkjH_",
        "colab": {
          "base_uri": "https://localhost:8080/",
          "height": 332
        },
        "outputId": "16275090-b65a-49f2-ba41-1425044ab8e0"
      },
      "execution_count": 16,
      "outputs": [
        {
          "output_type": "execute_result",
          "data": {
            "text/plain": [
              "   year  counts\n",
              "0  2010  156536\n",
              "1  2012  154120\n",
              "2  2011  152340\n",
              "3  2013  144266\n",
              "4  2014  128722\n",
              "5  2015  115619\n",
              "6  2016  108825\n",
              "7  2017   98864\n",
              "9  2018   30328"
            ],
            "text/html": [
              "\n",
              "  <div id=\"df-15aeba9c-1b44-4f48-af9d-ca01940f2609\">\n",
              "    <div class=\"colab-df-container\">\n",
              "      <div>\n",
              "<style scoped>\n",
              "    .dataframe tbody tr th:only-of-type {\n",
              "        vertical-align: middle;\n",
              "    }\n",
              "\n",
              "    .dataframe tbody tr th {\n",
              "        vertical-align: top;\n",
              "    }\n",
              "\n",
              "    .dataframe thead th {\n",
              "        text-align: right;\n",
              "    }\n",
              "</style>\n",
              "<table border=\"1\" class=\"dataframe\">\n",
              "  <thead>\n",
              "    <tr style=\"text-align: right;\">\n",
              "      <th></th>\n",
              "      <th>year</th>\n",
              "      <th>counts</th>\n",
              "    </tr>\n",
              "  </thead>\n",
              "  <tbody>\n",
              "    <tr>\n",
              "      <th>0</th>\n",
              "      <td>2010</td>\n",
              "      <td>156536</td>\n",
              "    </tr>\n",
              "    <tr>\n",
              "      <th>1</th>\n",
              "      <td>2012</td>\n",
              "      <td>154120</td>\n",
              "    </tr>\n",
              "    <tr>\n",
              "      <th>2</th>\n",
              "      <td>2011</td>\n",
              "      <td>152340</td>\n",
              "    </tr>\n",
              "    <tr>\n",
              "      <th>3</th>\n",
              "      <td>2013</td>\n",
              "      <td>144266</td>\n",
              "    </tr>\n",
              "    <tr>\n",
              "      <th>4</th>\n",
              "      <td>2014</td>\n",
              "      <td>128722</td>\n",
              "    </tr>\n",
              "    <tr>\n",
              "      <th>5</th>\n",
              "      <td>2015</td>\n",
              "      <td>115619</td>\n",
              "    </tr>\n",
              "    <tr>\n",
              "      <th>6</th>\n",
              "      <td>2016</td>\n",
              "      <td>108825</td>\n",
              "    </tr>\n",
              "    <tr>\n",
              "      <th>7</th>\n",
              "      <td>2017</td>\n",
              "      <td>98864</td>\n",
              "    </tr>\n",
              "    <tr>\n",
              "      <th>9</th>\n",
              "      <td>2018</td>\n",
              "      <td>30328</td>\n",
              "    </tr>\n",
              "  </tbody>\n",
              "</table>\n",
              "</div>\n",
              "      <button class=\"colab-df-convert\" onclick=\"convertToInteractive('df-15aeba9c-1b44-4f48-af9d-ca01940f2609')\"\n",
              "              title=\"Convert this dataframe to an interactive table.\"\n",
              "              style=\"display:none;\">\n",
              "        \n",
              "  <svg xmlns=\"http://www.w3.org/2000/svg\" height=\"24px\"viewBox=\"0 0 24 24\"\n",
              "       width=\"24px\">\n",
              "    <path d=\"M0 0h24v24H0V0z\" fill=\"none\"/>\n",
              "    <path d=\"M18.56 5.44l.94 2.06.94-2.06 2.06-.94-2.06-.94-.94-2.06-.94 2.06-2.06.94zm-11 1L8.5 8.5l.94-2.06 2.06-.94-2.06-.94L8.5 2.5l-.94 2.06-2.06.94zm10 10l.94 2.06.94-2.06 2.06-.94-2.06-.94-.94-2.06-.94 2.06-2.06.94z\"/><path d=\"M17.41 7.96l-1.37-1.37c-.4-.4-.92-.59-1.43-.59-.52 0-1.04.2-1.43.59L10.3 9.45l-7.72 7.72c-.78.78-.78 2.05 0 2.83L4 21.41c.39.39.9.59 1.41.59.51 0 1.02-.2 1.41-.59l7.78-7.78 2.81-2.81c.8-.78.8-2.07 0-2.86zM5.41 20L4 18.59l7.72-7.72 1.47 1.35L5.41 20z\"/>\n",
              "  </svg>\n",
              "      </button>\n",
              "      \n",
              "  <style>\n",
              "    .colab-df-container {\n",
              "      display:flex;\n",
              "      flex-wrap:wrap;\n",
              "      gap: 12px;\n",
              "    }\n",
              "\n",
              "    .colab-df-convert {\n",
              "      background-color: #E8F0FE;\n",
              "      border: none;\n",
              "      border-radius: 50%;\n",
              "      cursor: pointer;\n",
              "      display: none;\n",
              "      fill: #1967D2;\n",
              "      height: 32px;\n",
              "      padding: 0 0 0 0;\n",
              "      width: 32px;\n",
              "    }\n",
              "\n",
              "    .colab-df-convert:hover {\n",
              "      background-color: #E2EBFA;\n",
              "      box-shadow: 0px 1px 2px rgba(60, 64, 67, 0.3), 0px 1px 3px 1px rgba(60, 64, 67, 0.15);\n",
              "      fill: #174EA6;\n",
              "    }\n",
              "\n",
              "    [theme=dark] .colab-df-convert {\n",
              "      background-color: #3B4455;\n",
              "      fill: #D2E3FC;\n",
              "    }\n",
              "\n",
              "    [theme=dark] .colab-df-convert:hover {\n",
              "      background-color: #434B5C;\n",
              "      box-shadow: 0px 1px 3px 1px rgba(0, 0, 0, 0.15);\n",
              "      filter: drop-shadow(0px 1px 2px rgba(0, 0, 0, 0.3));\n",
              "      fill: #FFFFFF;\n",
              "    }\n",
              "  </style>\n",
              "\n",
              "      <script>\n",
              "        const buttonEl =\n",
              "          document.querySelector('#df-15aeba9c-1b44-4f48-af9d-ca01940f2609 button.colab-df-convert');\n",
              "        buttonEl.style.display =\n",
              "          google.colab.kernel.accessAllowed ? 'block' : 'none';\n",
              "\n",
              "        async function convertToInteractive(key) {\n",
              "          const element = document.querySelector('#df-15aeba9c-1b44-4f48-af9d-ca01940f2609');\n",
              "          const dataTable =\n",
              "            await google.colab.kernel.invokeFunction('convertToInteractive',\n",
              "                                                     [key], {});\n",
              "          if (!dataTable) return;\n",
              "\n",
              "          const docLinkHtml = 'Like what you see? Visit the ' +\n",
              "            '<a target=\"_blank\" href=https://colab.research.google.com/notebooks/data_table.ipynb>data table notebook</a>'\n",
              "            + ' to learn more about interactive tables.';\n",
              "          element.innerHTML = '';\n",
              "          dataTable['output_type'] = 'display_data';\n",
              "          await google.colab.output.renderOutput(dataTable, element);\n",
              "          const docLink = document.createElement('div');\n",
              "          docLink.innerHTML = docLinkHtml;\n",
              "          element.appendChild(docLink);\n",
              "        }\n",
              "      </script>\n",
              "    </div>\n",
              "  </div>\n",
              "  "
            ]
          },
          "metadata": {},
          "execution_count": 16
        }
      ]
    },
    {
      "cell_type": "code",
      "source": [
        "from sklearn.linear_model import LinearRegression # importing linear regression model\n",
        "X = count_df.year.values.reshape(-1,1) #reshaping X and y values to 2D\n",
        "y = count_df.counts.values.reshape(-1,1)\n",
        "reg = LinearRegression()             # creating linear regression instance/object\n",
        "reg.fit(X,y)                         # fitting datasets to regression object \n",
        "y_pred = reg.predict(X)              # predicting y values\n",
        "y_pred"
      ],
      "metadata": {
        "id": "LUagw0EHkjKD",
        "colab": {
          "base_uri": "https://localhost:8080/"
        },
        "outputId": "794c40b6-cc80-4feb-c8ae-b1da2b842cbc"
      },
      "execution_count": 17,
      "outputs": [
        {
          "output_type": "execute_result",
          "data": {
            "text/plain": [
              "array([[173368.68888889],\n",
              "       [147218.78888889],\n",
              "       [160293.73888889],\n",
              "       [134143.83888889],\n",
              "       [121068.88888889],\n",
              "       [107993.93888889],\n",
              "       [ 94918.98888889],\n",
              "       [ 81844.03888889],\n",
              "       [ 68769.08888889]])"
            ]
          },
          "metadata": {},
          "execution_count": 17
        }
      ]
    },
    {
      "cell_type": "code",
      "source": [
        "\n",
        "pred = reg.predict(np.array(2019).reshape(-1,1)) # predicting the crime committed in 2019\n",
        "pred.astype('int32') # type casting the output as an integer"
      ],
      "metadata": {
        "id": "PXUM_jj0kjMC",
        "colab": {
          "base_uri": "https://localhost:8080/"
        },
        "outputId": "b6a9c14e-0bcd-450d-8da2-780517d8d27a"
      },
      "execution_count": 18,
      "outputs": [
        {
          "output_type": "execute_result",
          "data": {
            "text/plain": [
              "array([[55694]], dtype=int32)"
            ]
          },
          "metadata": {},
          "execution_count": 18
        }
      ]
    },
    {
      "cell_type": "markdown",
      "source": [
        "6. How many arrest incidents occurred within 2 km from the Bradbury Building in 2018? Use (34.050536, -118.247861) for the coordinates of the Bradbury Building . For simplicity, please use the spherical Earth projected to a plane equation for calculating distances. Use the radius of the Earth as 6371 km. Note, some arrest records are missing location data and the location is listed as (0, 0). These records should not factor in your calculation.[5]\n",
        "\n",
        "> There are **5211** cases"
      ],
      "metadata": {
        "id": "KQ7WpHvpQFJ-"
      }
    },
    {
      "cell_type": "code",
      "source": [
        "!pip install haversine"
      ],
      "metadata": {
        "id": "6iBuST2JkjSu",
        "colab": {
          "base_uri": "https://localhost:8080/"
        },
        "outputId": "cb958ee0-5628-40d5-bcb8-5c241cd13658"
      },
      "execution_count": null,
      "outputs": [
        {
          "output_type": "stream",
          "name": "stdout",
          "text": [
            "Looking in indexes: https://pypi.org/simple, https://us-python.pkg.dev/colab-wheels/public/simple/\n",
            "Collecting haversine\n",
            "  Downloading haversine-2.7.0-py2.py3-none-any.whl (6.9 kB)\n",
            "Installing collected packages: haversine\n",
            "Successfully installed haversine-2.7.0\n"
          ]
        }
      ]
    },
    {
      "cell_type": "code",
      "source": [
        "import geopy.distance as geo     # importing library to calculate distance\n",
        "\n",
        "# in this case, we are using df2 which includes 2018 data only.\n",
        "df2_loc = df_2018['location'].str.strip('()').str.split(', ', expand=True).rename(columns={0:'latitude', 1:'longitude'})    # extracting the latitudes and longitudes.\n",
        "coords_2 = (34.050536, -118.247861)                                                                                     # starting coordinates\n",
        "df2_loc['distance'] = df2_loc.apply(lambda x: geo.distance((x.latitude, x. longitude), coords_2).km, axis=1)            # getting distance in km"
      ],
      "metadata": {
        "id": "3Tg9kirrc7-w"
      },
      "execution_count": 26,
      "outputs": []
    },
    {
      "cell_type": "code",
      "source": [
        "df2_loc[df2_loc['distance']<=2].count() # selecting distances within 2km and counting number of instances"
      ],
      "metadata": {
        "colab": {
          "base_uri": "https://localhost:8080/"
        },
        "id": "nv1xj7FjgvrQ",
        "outputId": "619135f0-756f-4f88-e2da-4e0cbbdbde68"
      },
      "execution_count": null,
      "outputs": [
        {
          "output_type": "execute_result",
          "data": {
            "text/plain": [
              "latitude     5211\n",
              "longitude    5211\n",
              "distance     5211\n",
              "dtype: int64"
            ]
          },
          "metadata": {},
          "execution_count": 31
        }
      ]
    }
  ]
}